{
 "cells": [
  {
   "cell_type": "markdown",
   "id": "6c4849ad",
   "metadata": {},
   "source": [
    "# Numpy\n",
    "### Numpy is a library for the Python programming language, adding support for large, multi-dimensional arrays and matrices, along with a collection of mathematical functions to operate on these arrays.\n",
    "### Numpy is the fundamental package for scientific computing with Python."
   ]
  },
  {
   "cell_type": "code",
   "execution_count": 4,
   "id": "34b3eb1a",
   "metadata": {},
   "outputs": [
    {
     "name": "stdout",
     "output_type": "stream",
     "text": [
      "[1 2 3 4 5]\n",
      "(5,)\n"
     ]
    }
   ],
   "source": [
    "import numpy as np\n",
    "arr1 = np.array([1, 2, 3, 4, 5])\n",
    "print(arr1)\n",
    "print(arr1.shape)"
   ]
  },
  {
   "cell_type": "code",
   "execution_count": 5,
   "id": "5f24e0d9",
   "metadata": {},
   "outputs": [
    {
     "data": {
      "text/plain": [
       "(2, 3)"
      ]
     },
     "execution_count": 5,
     "metadata": {},
     "output_type": "execute_result"
    }
   ],
   "source": [
    "arr2 = np.array([[1, 2, 3], [4, 5, 6]])\n",
    "arr2.shape"
   ]
  },
  {
   "cell_type": "code",
   "execution_count": 6,
   "id": "c128bb7b",
   "metadata": {},
   "outputs": [
    {
     "data": {
      "text/plain": [
       "array([[1, 2, 3],\n",
       "       [4, 5, 6]])"
      ]
     },
     "execution_count": 6,
     "metadata": {},
     "output_type": "execute_result"
    }
   ],
   "source": [
    "arr3 = np.array([1, 2, 3, 4, 5, 6])\n",
    "arr3.reshape(2, 3)  # Reshape to 2 rows and 3 columns"
   ]
  },
  {
   "cell_type": "code",
   "execution_count": 8,
   "id": "e35c3969",
   "metadata": {},
   "outputs": [
    {
     "data": {
      "text/plain": [
       "array([[0],\n",
       "       [2],\n",
       "       [4],\n",
       "       [6],\n",
       "       [8]])"
      ]
     },
     "execution_count": 8,
     "metadata": {},
     "output_type": "execute_result"
    }
   ],
   "source": [
    "np.arange(0, 10, 2).reshape(5, 1)"
   ]
  },
  {
   "cell_type": "code",
   "execution_count": 10,
   "id": "4a5e30ff",
   "metadata": {},
   "outputs": [
    {
     "data": {
      "text/plain": [
       "array([[1., 1., 1., 1.],\n",
       "       [1., 1., 1., 1.],\n",
       "       [1., 1., 1., 1.]])"
      ]
     },
     "execution_count": 10,
     "metadata": {},
     "output_type": "execute_result"
    }
   ],
   "source": [
    "np.ones((3, 4))"
   ]
  },
  {
   "cell_type": "code",
   "execution_count": 11,
   "id": "196daa34",
   "metadata": {},
   "outputs": [
    {
     "data": {
      "text/plain": [
       "array([[1., 0., 0.],\n",
       "       [0., 1., 0.],\n",
       "       [0., 0., 1.]])"
      ]
     },
     "execution_count": 11,
     "metadata": {},
     "output_type": "execute_result"
    }
   ],
   "source": [
    "## Identity matrix\n",
    "np.eye(3)"
   ]
  },
  {
   "cell_type": "code",
   "execution_count": 12,
   "id": "2ed7060d",
   "metadata": {},
   "outputs": [
    {
     "name": "stdout",
     "output_type": "stream",
     "text": [
      "Array: \n",
      " [[1 2 3]\n",
      " [4 5 6]]\n",
      "Shape:  (2, 3)\n",
      "Number of dimensions:  2\n",
      "Size (number of elements):  6\n",
      "Data type:  int64\n",
      "Data type of elements:  int64\n",
      "Item size (in bytes):  8\n"
     ]
    }
   ],
   "source": [
    "arr = np.array([[1, 2, 3], [4, 5, 6]])\n",
    "\n",
    "print(\"Array: \\n\", arr)\n",
    "print(\"Shape: \", arr.shape)\n",
    "print(\"Number of dimensions: \", arr.ndim)\n",
    "print(\"Size (number of elements): \", arr.size)\n",
    "print(\"Data type: \", arr.dtype)\n",
    "print(\"Data type of elements: \", arr.dtype.name)\n",
    "print(\"Item size (in bytes): \", arr.itemsize)"
   ]
  },
  {
   "cell_type": "code",
   "execution_count": 13,
   "id": "0ff7a926",
   "metadata": {},
   "outputs": [
    {
     "name": "stdout",
     "output_type": "stream",
     "text": [
      "Addition:  [ 7  9 11 13 15]\n",
      "Subtraction:  [-5 -5 -5 -5 -5]\n",
      "Multiplication:  [ 6 14 24 36 50]\n",
      "Division:  [0.16666667 0.28571429 0.375      0.44444444 0.5       ]\n"
     ]
    }
   ],
   "source": [
    "# Numpy vectorized operations\n",
    "arr1 = np.array([1, 2, 3, 4, 5])\n",
    "arr2 = np.array([6, 7, 8, 9, 10])\n",
    "\n",
    "# Element-wise addition\n",
    "print(\"Addition: \", arr1 + arr2)\n",
    "# Element-wise subtraction\n",
    "print(\"Subtraction: \", arr1 - arr2)\n",
    "# Element-wise multiplication\n",
    "print(\"Multiplication: \", arr1 * arr2)\n",
    "# Element-wise division \n",
    "print(\"Division: \", arr1 / arr2)"
   ]
  },
  {
   "cell_type": "code",
   "execution_count": 14,
   "id": "e3b161f4",
   "metadata": {},
   "outputs": [
    {
     "name": "stdout",
     "output_type": "stream",
     "text": [
      "Square root:  [1.         1.41421356 1.73205081 2.         2.23606798]\n",
      "Exponential:  [  2.71828183   7.3890561   20.08553692  54.59815003 148.4131591 ]\n",
      "Logarithm:  [0.         0.69314718 1.09861229 1.38629436 1.60943791]\n",
      "Sine:  [ 0.84147098  0.90929743  0.14112001 -0.7568025  -0.95892427]\n"
     ]
    }
   ],
   "source": [
    "# Universal functions (ufuncs)\n",
    "arr = np.array([1, 2, 3, 4, 5])\n",
    "print(\"Square root: \", np.sqrt(arr)) # Square root of each element\n",
    "print(\"Exponential: \", np.exp(arr)) # Exponential of each element\n",
    "print(\"Logarithm: \", np.log(arr)) # Natural logarithm of each element\n",
    "print(\"Sine: \", np.sin(arr)) # Sine of each element"
   ]
  },
  {
   "cell_type": "code",
   "execution_count": 16,
   "id": "ac1a4f83",
   "metadata": {},
   "outputs": [
    {
     "name": "stdout",
     "output_type": "stream",
     "text": [
      "Original array: \n",
      " [[ 1  2  3  4]\n",
      " [ 5  6  7  8]\n",
      " [ 8  9 10 11]]\n"
     ]
    }
   ],
   "source": [
    "# Array slicing and indexing\n",
    "arr = np.array([[1, 2, 3, 4], [5, 6, 7, 8], [8, 9, 10, 11]])\n",
    "print(\"Original array: \\n\", arr)"
   ]
  },
  {
   "cell_type": "code",
   "execution_count": 23,
   "id": "706487f3",
   "metadata": {},
   "outputs": [
    {
     "name": "stdout",
     "output_type": "stream",
     "text": [
      "[[3 4]\n",
      " [7 8]]\n"
     ]
    }
   ],
   "source": [
    "arr[0][0] # Accessing element at row 0, column 0\n",
    "print(arr[0:2, 2:]) "
   ]
  },
  {
   "cell_type": "code",
   "execution_count": 20,
   "id": "c0a2e210",
   "metadata": {},
   "outputs": [
    {
     "data": {
      "text/plain": [
       "array([[ 7,  8],\n",
       "       [10, 11]])"
      ]
     },
     "execution_count": 20,
     "metadata": {},
     "output_type": "execute_result"
    }
   ],
   "source": [
    "arr[1:, 2:] # Accessing elements from row 1 to end and column 2 to end"
   ]
  },
  {
   "cell_type": "code",
   "execution_count": 24,
   "id": "ff406eb9",
   "metadata": {},
   "outputs": [
    {
     "name": "stdout",
     "output_type": "stream",
     "text": [
      "Modified array: \n",
      " [[10 11 12 13]\n",
      " [ 5  6  7  8]\n",
      " [ 8  9 10 11]]\n",
      "Row 1:  [5 6 7 8]\n",
      "Column 2:  [12  7 10]\n"
     ]
    }
   ],
   "source": [
    "# Modify array elements\n",
    "arr[0] = [10, 11, 12, 13]\n",
    "print(\"Modified array: \\n\", arr)\n",
    "print(\"Row 1: \", arr[1]) # Accessing row 1\n",
    "print(\"Column 2: \", arr[:, 2]) # Accessing column 2"
   ]
  },
  {
   "cell_type": "code",
   "execution_count": 25,
   "id": "c29b3e3c",
   "metadata": {},
   "outputs": [
    {
     "name": "stdout",
     "output_type": "stream",
     "text": [
      "Normalized data:  [-1.41421356 -0.70710678  0.          0.70710678  1.41421356]\n"
     ]
    }
   ],
   "source": [
    "# Practical example: Normalizing data\n",
    "# Change data to have a mean of 0 and standard deviation of 1\n",
    "\n",
    "data = np.array([1, 2, 3, 4, 5])\n",
    "\n",
    "# Calculate mean and standard deviation\n",
    "mean = np.mean(data)\n",
    "std_dev = np.std(data)\n",
    "\n",
    "# Normalize the data\n",
    "normalized_data = (data - mean) / std_dev\n",
    "print(\"Normalized data: \", normalized_data)"
   ]
  },
  {
   "cell_type": "code",
   "execution_count": 26,
   "id": "3082dd1f",
   "metadata": {},
   "outputs": [
    {
     "name": "stdout",
     "output_type": "stream",
     "text": [
      "Array: \n",
      " [[1 2 3]\n",
      " [4 5 6]\n",
      " [7 8 9]]\n",
      "Mean:  5.0\n",
      "Mean along axis 0:  [4. 5. 6.]\n",
      "Mean along axis 1:  [2. 5. 8.]\n",
      "Median:  5.0\n",
      "Median along axis 0:  [4. 5. 6.]\n",
      "Median along axis 1:  [2. 5. 8.]\n",
      "Standard deviation:  2.581988897471611\n",
      "Standard deviation along axis 0:  [2.44948974 2.44948974 2.44948974]\n",
      "Standard deviation along axis 1:  [0.81649658 0.81649658 0.81649658]\n"
     ]
    }
   ],
   "source": [
    "# Calculation of mean, median, and standard deviation\n",
    "\n",
    "arr = np.array([[1, 2, 3], [4, 5, 6], [7, 8, 9]])\n",
    "print(\"Array: \\n\", arr)\n",
    "print(\"Mean: \", np.mean(arr)) # Mean of all elements\n",
    "print(\"Mean along axis 0: \", np.mean(arr, axis=0)) # Mean along columns\n",
    "print(\"Mean along axis 1: \", np.mean(arr, axis=1)) # Mean along rows\n",
    "print(\"Median: \", np.median(arr)) # Median of all elements\n",
    "print(\"Median along axis 0: \", np.median(arr, axis=0)) # Median along columns\n",
    "print(\"Median along axis 1: \", np.median(arr, axis=1)) # Median along rows\n",
    "print(\"Standard deviation: \", np.std(arr)) # Standard deviation of all elements\n",
    "print(\"Standard deviation along axis 0: \", np.std(arr, axis=0)) # Standard deviation along columns\n",
    "print(\"Standard deviation along axis 1: \", np.std(arr, axis=1)) # Standard deviation along rows"
   ]
  },
  {
   "cell_type": "code",
   "execution_count": 28,
   "id": "6f0a8c81",
   "metadata": {},
   "outputs": [
    {
     "name": "stdout",
     "output_type": "stream",
     "text": [
      "Data:  [ 1  2  3  4  5  6  7  8  9 10]\n",
      "Elements greater than 5:  [ 6  7  8  9 10]\n",
      "Elements less than or equal to 5:  [1 2 3 4 5]\n",
      "Elements equal to 5:  [5]\n",
      "Elements not equal to 5:  [ 1  2  3  4  6  7  8  9 10]\n",
      "Elements between 3 and 7:  [4 5 6]\n"
     ]
    }
   ],
   "source": [
    "# Logical operations\n",
    "data = np.array([1, 2, 3, 4, 5, 6, 7, 8, 9, 10])\n",
    "print(\"Data: \", data)\n",
    "print(\"Elements greater than 5: \", data[data > 5]) # Elements greater than 5\n",
    "print(\"Elements less than or equal to 5: \", data[data <= 5]) # Elements less than or equal to 5\n",
    "print(\"Elements equal to 5: \", data[data == 5]) # Elements equal to 5\n",
    "print(\"Elements not equal to 5: \", data[data != 5]) # Elements not equal to 5\n",
    "print(\"Elements between 3 and 7: \", data[(data > 3) & (data < 7)]) # Elements between 3 and 7"
   ]
  },
  {
   "cell_type": "code",
   "execution_count": null,
   "id": "aa38996d",
   "metadata": {},
   "outputs": [],
   "source": []
  }
 ],
 "metadata": {
  "kernelspec": {
   "display_name": "newenv",
   "language": "python",
   "name": "newenv"
  },
  "language_info": {
   "codemirror_mode": {
    "name": "ipython",
    "version": 3
   },
   "file_extension": ".py",
   "mimetype": "text/x-python",
   "name": "python",
   "nbconvert_exporter": "python",
   "pygments_lexer": "ipython3",
   "version": "3.12.4"
  }
 },
 "nbformat": 4,
 "nbformat_minor": 5
}
