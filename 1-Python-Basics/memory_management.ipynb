{
 "cells": [
  {
   "cell_type": "markdown",
   "id": "a20d1923",
   "metadata": {},
   "source": [
    "## Python Memory Management\n",
    "\n",
    "Python's memory management is a crucial aspect of its performance and efficiency. It involves several components that work together to allocate, manage, and free memory as needed by Python programs.\n",
    "\n",
    "### Key Components of Python Memory Management\n",
    "1. **Memory Allocation**: Python uses a private heap space for memory allocation. This heap is managed by the Python memory manager, which handles the allocation of memory blocks for objects and data structures.\n",
    "2. **Garbage Collection**: Python employs a garbage collector to reclaim memory that is no\n",
    "    longer in use. It primarily uses reference counting to track the number of references to each object. When an object's reference count drops to zero, it is eligible for garbage collection.\n",
    "\n",
    "3. **Memory Pools**: Python uses a system of memory pools to manage small objects efficiently. This reduces fragmentation and speeds up memory allocation for frequently used small objects.\n",
    "4. **Object-Specific Allocators**: Python has specialized allocators for different types of\n",
    "objects, such as integers, lists, and dictionaries. These allocators optimize memory usage for specific data types.\n",
    "5. **Memory Leaks**: While Python's garbage collector helps prevent memory leaks, they\n",
    "    can still occur, especially in cases of circular references. Developers can use tools like `gc` module to identify and resolve such issues.\n"
   ]
  },
  {
   "cell_type": "markdown",
   "id": "a197dd1e",
   "metadata": {},
   "source": [
    "### Reference Counting\n",
    "Reference counting is the primary mechanism for memory management in Python. Each object maintains a count of references pointing to it. When an object's reference count reaches zero, it means there are no references to that object, and it can be safely deallocated."
   ]
  },
  {
   "cell_type": "code",
   "execution_count": 1,
   "id": "89f1f6c5",
   "metadata": {},
   "outputs": [
    {
     "name": "stdout",
     "output_type": "stream",
     "text": [
      "2\n"
     ]
    }
   ],
   "source": [
    "import sys\n",
    "\n",
    "a =[]\n",
    "print(sys.getrefcount(a))"
   ]
  },
  {
   "cell_type": "markdown",
   "id": "a56e2ec5",
   "metadata": {},
   "source": [
    "In this case, we can use the `sys` module to check the reference count of an object, which is a useful way to understand how Python manages memory for objects. In this case, both the \n",
    "variable `a` and `b` point to the same list object, so the reference count for that object is incremented."
   ]
  },
  {
   "cell_type": "code",
   "execution_count": 2,
   "id": "9c1fb62a",
   "metadata": {},
   "outputs": [
    {
     "name": "stdout",
     "output_type": "stream",
     "text": [
      "3\n"
     ]
    }
   ],
   "source": [
    "b=a\n",
    "print(sys.getrefcount(b))"
   ]
  },
  {
   "cell_type": "markdown",
   "id": "254b2b77",
   "metadata": {},
   "source": [
    "### Garbage Collection\n",
    "Python's garbage collector is responsible for cleaning up memory that is no longer in use. It uses a combination of reference counting and cyclic garbage collection to identify and reclaim memory occupied by objects that are no longer reachable."
   ]
  },
  {
   "cell_type": "code",
   "execution_count": 3,
   "id": "9d106607",
   "metadata": {},
   "outputs": [],
   "source": [
    "import gc\n",
    "# enable garbage collection\n",
    "gc.enable()"
   ]
  },
  {
   "cell_type": "code",
   "execution_count": 4,
   "id": "af482275",
   "metadata": {},
   "outputs": [
    {
     "data": {
      "text/plain": [
       "171"
      ]
     },
     "execution_count": 4,
     "metadata": {},
     "output_type": "execute_result"
    }
   ],
   "source": [
    "gc.collect()"
   ]
  },
  {
   "cell_type": "code",
   "execution_count": 5,
   "id": "abad483e",
   "metadata": {},
   "outputs": [
    {
     "name": "stdout",
     "output_type": "stream",
     "text": [
      "[{'collections': 173, 'collected': 1539, 'uncollectable': 0}, {'collections': 15, 'collected': 9, 'uncollectable': 0}, {'collections': 2, 'collected': 171, 'uncollectable': 0}]\n"
     ]
    }
   ],
   "source": [
    "print(gc.get_stats())"
   ]
  },
  {
   "cell_type": "markdown",
   "id": "785df665",
   "metadata": {},
   "source": [
    "#### Memory Management Best Practices\n",
    "- **Use Built-in Types**: Prefer using Python's built-in types and data structures,\n",
    "    as they are optimized for memory usage.\n",
    "- **Avoid Circular References**: Be cautious with circular references, as they can lead to memory leaks. Use weak references or the `gc` module to manage them.\n",
    "- **Profile Memory Usage**: Use memory profiling tools to identify memory-intensive parts of your code and optimize them.\n",
    "- **Use local variables**: Local variables are automatically cleaned up when they go out of scope, reducing memory usage.\n",
    "- **Release Resources**: Explicitly release resources like file handles, network connections, and database connections when they are no longer needed.\n",
    "- **Use Context Managers**: Use context managers (the `with` statement) to ensure that resources are properly managed and released.\n",
    "- **Avoid Global Variables**: Minimize the use of global variables, as they can lead to increased memory usage and make it harder to track memory leaks.\n",
    "- **Use Generators**: For large datasets, consider using generators instead of lists to reduce memory consumption."
   ]
  },
  {
   "cell_type": "code",
   "execution_count": 6,
   "id": "e1673d69",
   "metadata": {},
   "outputs": [
    {
     "name": "stdout",
     "output_type": "stream",
     "text": [
      "Object obj1 created\n",
      "Object obj2 created\n",
      "Obect obj1 deleted\n",
      "Obect obj2 deleted\n"
     ]
    },
    {
     "data": {
      "text/plain": [
       "23"
      ]
     },
     "execution_count": 6,
     "metadata": {},
     "output_type": "execute_result"
    }
   ],
   "source": [
    "import gc\n",
    "\n",
    "class MyObject:\n",
    "    def __init__(self, name):\n",
    "        self.name = name\n",
    "        print(f\"Object {self.name} created\")\n",
    "    \n",
    "    def __del__(self):\n",
    "        print(f\"Obect {self.name} deleted\")\n",
    "\n",
    "\n",
    "# Circular reference\n",
    "obj1 = MyObject(\"obj1\")\n",
    "obj2 = MyObject(\"obj2\")\n",
    "\n",
    "obj1.ref = obj2\n",
    "obj2.ref = obj1\n",
    "\n",
    "del obj1\n",
    "del obj2\n",
    "\n",
    "# Manually trigger garbage collection\n",
    "gc.collect()"
   ]
  },
  {
   "cell_type": "markdown",
   "id": "c0eb7b29",
   "metadata": {},
   "source": [
    "## Using generators\n",
    "Generators are a powerful feature in Python that allow you to create iterators in a memory-efficient way\n",
    "by yielding values one at a time, rather than storing them all in memory at once. This is particularly useful when dealing with large datasets or streams of data."
   ]
  },
  {
   "cell_type": "code",
   "execution_count": 7,
   "id": "3acd327f",
   "metadata": {},
   "outputs": [
    {
     "name": "stdout",
     "output_type": "stream",
     "text": [
      "0\n",
      "1\n",
      "2\n",
      "3\n",
      "4\n",
      "5\n",
      "6\n",
      "7\n",
      "8\n",
      "9\n",
      "10\n",
      "11\n",
      "12\n",
      "13\n",
      "14\n",
      "15\n",
      "16\n",
      "17\n",
      "18\n",
      "19\n",
      "20\n",
      "21\n",
      "22\n",
      "23\n",
      "24\n",
      "25\n",
      "26\n",
      "27\n",
      "28\n",
      "29\n",
      "30\n",
      "31\n",
      "32\n",
      "33\n",
      "34\n",
      "35\n",
      "36\n",
      "37\n",
      "38\n",
      "39\n",
      "40\n",
      "41\n",
      "42\n",
      "43\n",
      "44\n",
      "45\n",
      "46\n",
      "47\n",
      "48\n",
      "49\n",
      "50\n",
      "51\n",
      "52\n",
      "53\n",
      "54\n",
      "55\n",
      "56\n",
      "57\n",
      "58\n",
      "59\n",
      "60\n",
      "61\n",
      "62\n",
      "63\n",
      "64\n",
      "65\n",
      "66\n",
      "67\n",
      "68\n",
      "69\n",
      "70\n",
      "71\n",
      "72\n",
      "73\n",
      "74\n",
      "75\n",
      "76\n",
      "77\n",
      "78\n",
      "79\n",
      "80\n",
      "81\n",
      "82\n",
      "83\n",
      "84\n",
      "85\n",
      "86\n",
      "87\n",
      "88\n",
      "89\n",
      "90\n",
      "91\n",
      "92\n",
      "93\n",
      "94\n",
      "95\n",
      "96\n",
      "97\n",
      "98\n",
      "99\n",
      "100\n",
      "101\n"
     ]
    }
   ],
   "source": [
    "def generate_numbers(n):\n",
    "    for i in range(n):\n",
    "        yield i\n",
    "\n",
    "# using the generator\n",
    "for num in generate_numbers(1000000):\n",
    "    print(num)\n",
    "    if num > 100:\n",
    "        break"
   ]
  },
  {
   "cell_type": "code",
   "execution_count": 8,
   "id": "4a5d9208",
   "metadata": {},
   "outputs": [],
   "source": [
    "# Profiling meory usage with tracemalloc\n",
    "\n",
    "import tracemalloc\n",
    "\n",
    "def create_large_list():\n",
    "    return [i for i in range(1000000)]\n",
    "\n",
    "def main():\n",
    "    tracemalloc.start()\n",
    "    \n",
    "    snapshot1 = tracemalloc.take_snapshot()\n",
    "    large_list = create_large_list()\n",
    "    snapshot2 = tracemalloc.take_snapshot()\n",
    "    \n",
    "    top_stats = snapshot2.compare_to(snapshot1, 'lineno')\n",
    "    \n",
    "    print(\"[ Top 10 differences ]\")\n",
    "    for stat in top_stats[:10]:\n",
    "        print(stat)\n",
    "    \n",
    "    tracemalloc.stop()\n"
   ]
  },
  {
   "cell_type": "code",
   "execution_count": 9,
   "id": "b657d3b3",
   "metadata": {},
   "outputs": [
    {
     "name": "stdout",
     "output_type": "stream",
     "text": [
      "[ Top 10 differences ]\n",
      "C:\\conda_tmp\\ipykernel_4320\\4222761049.py:6: size=38.6 MiB (+38.6 MiB), count=999744 (+999744), average=40 B\n",
      "c:\\Users\\Sam Ben-Yosef\\.conda\\envs\\newenv\\Lib\\site-packages\\tornado\\platform\\asyncio.py:574: size=144 KiB (+144 KiB), count=3 (+3), average=48.0 KiB\n",
      "c:\\Users\\Sam Ben-Yosef\\.conda\\envs\\newenv\\Lib\\asyncio\\windows_events.py:487: size=4129 B (+4129 B), count=1 (+1), average=4129 B\n",
      "c:\\Users\\Sam Ben-Yosef\\.conda\\envs\\newenv\\Lib\\tracemalloc.py:560: size=312 B (+312 B), count=2 (+2), average=156 B\n",
      "c:\\Users\\Sam Ben-Yosef\\.conda\\envs\\newenv\\Lib\\tracemalloc.py:423: size=312 B (+312 B), count=2 (+2), average=156 B\n",
      "c:\\Users\\Sam Ben-Yosef\\.conda\\envs\\newenv\\Lib\\site-packages\\ipykernel\\iostream.py:286: size=240 B (+240 B), count=2 (+2), average=120 B\n",
      "c:\\Users\\Sam Ben-Yosef\\.conda\\envs\\newenv\\Lib\\asyncio\\windows_events.py:484: size=184 B (+184 B), count=1 (+1), average=184 B\n",
      "c:\\Users\\Sam Ben-Yosef\\.conda\\envs\\newenv\\Lib\\site-packages\\tornado\\platform\\asyncio.py:545: size=144 B (+144 B), count=3 (+3), average=48 B\n",
      "c:\\Users\\Sam Ben-Yosef\\.conda\\envs\\newenv\\Lib\\asyncio\\windows_events.py:720: size=144 B (+144 B), count=1 (+1), average=144 B\n",
      "c:\\Users\\Sam Ben-Yosef\\.conda\\envs\\newenv\\Lib\\site-packages\\traitlets\\traitlets.py:731: size=131 B (+131 B), count=2 (+2), average=66 B\n"
     ]
    }
   ],
   "source": [
    "main()"
   ]
  },
  {
   "cell_type": "code",
   "execution_count": null,
   "id": "c952aeae",
   "metadata": {},
   "outputs": [],
   "source": []
  }
 ],
 "metadata": {
  "kernelspec": {
   "display_name": "newenv",
   "language": "python",
   "name": "python3"
  },
  "language_info": {
   "codemirror_mode": {
    "name": "ipython",
    "version": 3
   },
   "file_extension": ".py",
   "mimetype": "text/x-python",
   "name": "python",
   "nbconvert_exporter": "python",
   "pygments_lexer": "ipython3",
   "version": "3.12.4"
  }
 },
 "nbformat": 4,
 "nbformat_minor": 5
}
