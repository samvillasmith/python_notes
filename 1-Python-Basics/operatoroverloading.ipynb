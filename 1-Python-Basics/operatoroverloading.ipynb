{
 "cells": [
  {
   "cell_type": "code",
   "execution_count": 1,
   "id": "01d99ac9",
   "metadata": {},
   "outputs": [],
   "source": [
    "# Operator overloading is a powerful feature in Python that \n",
    "# allows you to define how operators behave for user-defined classes.\n",
    "\n",
    "# Common operator overloading methods include:\n",
    "# __add__ for addition (+), __sub__ for subtraction (-), \n",
    "# __mul__ for multiplication (*), __truediv__ for division (/), \n",
    "# __floordiv__ for floor division (//),\n",
    "# __mod__ for modulus (%), __pow__ for exponentiation (**),\n",
    "#  __eq__ for equality (==),\n",
    "# __lt__ for less than (<), __le__ for less than or equal to (<=),\n",
    "# __gt__ for greater than (>), __ge__ for greater than or equal to (>=),\n",
    "# __ne__ for not equal to (!=), and __str__ for string representation.\n",
    "\n",
    "# This allows you to create classes that can be used with standard operators,\n",
    "# making your code more intuitive and easier to read."
   ]
  },
  {
   "cell_type": "code",
   "execution_count": 2,
   "id": "0c31087d",
   "metadata": {},
   "outputs": [],
   "source": [
    "class Vector:\n",
    "    def __init__(self, x, y):\n",
    "        self.x = x\n",
    "        self.y = y\n",
    "\n",
    "    def __add__(self, other):\n",
    "        return Vector(self.x + other.x, self.y + other.y)\n",
    "\n",
    "    def __sub__(self, other):\n",
    "        return Vector(self.x - other.x, self.y - other.y)\n",
    "\n",
    "    def __mul__(self, scalar):\n",
    "        return Vector(self.x * scalar, self.y * scalar)\n",
    "\n",
    "    def __truediv__(self, scalar):\n",
    "        return Vector(self.x / scalar, self.y / scalar)\n",
    "\n",
    "    def __str__(self):\n",
    "        return f\"Vector({self.x}, {self.y})\"\n",
    "    \n",
    "v1 = Vector(2, 3)\n",
    "v2 = Vector(4, 5)\n",
    "v3 = v1 + v2\n",
    "v4 = v1 - v2\n",
    "v5 = v1 * 2\n",
    "v6 = v1 / 2"
   ]
  },
  {
   "cell_type": "code",
   "execution_count": 3,
   "id": "522889f1",
   "metadata": {},
   "outputs": [
    {
     "name": "stdout",
     "output_type": "stream",
     "text": [
      "Vector(6, 8)\n",
      "Vector(-2, -2)\n",
      "Vector(4, 6)\n",
      "Vector(1.0, 1.5)\n"
     ]
    }
   ],
   "source": [
    "print(v3)  # Output: Vector(6, 8)\n",
    "print(v4)  # Output: Vector(-2, -2)\n",
    "print(v5)  # Output: Vector(4, 6)\n",
    "print(v6)  # Output: Vector(1.0, 1.5) "
   ]
  },
  {
   "cell_type": "code",
   "execution_count": null,
   "id": "3d3674f8",
   "metadata": {},
   "outputs": [],
   "source": []
  }
 ],
 "metadata": {
  "kernelspec": {
   "display_name": "newenv",
   "language": "python",
   "name": "newenv"
  },
  "language_info": {
   "codemirror_mode": {
    "name": "ipython",
    "version": 3
   },
   "file_extension": ".py",
   "mimetype": "text/x-python",
   "name": "python",
   "nbconvert_exporter": "python",
   "pygments_lexer": "ipython3",
   "version": "3.12.4"
  }
 },
 "nbformat": 4,
 "nbformat_minor": 5
}
