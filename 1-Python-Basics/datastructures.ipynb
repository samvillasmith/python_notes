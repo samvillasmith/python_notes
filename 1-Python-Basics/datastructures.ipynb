{
 "cells": [
  {
   "cell_type": "code",
   "execution_count": 1,
   "metadata": {},
   "outputs": [
    {
     "name": "stdout",
     "output_type": "stream",
     "text": [
      "[1, 'Hello', 3.4, False]\n"
     ]
    }
   ],
   "source": [
    "# Lists are mutable, so you can change elements in a list by accessing them directly.\n",
    "# You can also add elements to the end of a list, or delete elements from it.\n",
    "\n",
    "# Lists can also be used to store items of different types.\n",
    "\n",
    "mixed_list = [1, \"Hello\", 3.4, False]\n",
    "print(mixed_list)"
   ]
  },
  {
   "cell_type": "code",
   "execution_count": 2,
   "metadata": {},
   "outputs": [
    {
     "name": "stdout",
     "output_type": "stream",
     "text": [
      "1\n",
      "2\n",
      "5\n"
     ]
    }
   ],
   "source": [
    "# Accessing elements in a list\n",
    "# You can access elements in a list using their index.\n",
    "# Indexing starts from 0.\n",
    "\n",
    "my_list = [1, 2, 3, 4, 5]\n",
    "print(my_list[0]) # Output: \n",
    "print(my_list[1]) # Output:\n",
    "print(my_list[-1]) # Output:"
   ]
  },
  {
   "cell_type": "code",
   "execution_count": 7,
   "metadata": {},
   "outputs": [
    {
     "name": "stdout",
     "output_type": "stream",
     "text": [
      "['banana', 'cherry', 'date']\n",
      "['apple', 'banana', 'cherry', 'date']\n",
      "['elderberry', 'fig', 'grape']\n"
     ]
    }
   ],
   "source": [
    "# slicing a list\n",
    "fruits = ['apple', 'banana', 'cherry', 'date', 'elderberry', 'fig', 'grape']\n",
    "print(fruits[1:4]) # Output: ['banana', 'cherry', 'date']\n",
    "print(fruits[:4]) # Output: ['apple', 'banana', 'cherry', 'date']\n",
    "print(fruits[4:]) # Output: ['elderberry', 'fig', 'grape']"
   ]
  },
  {
   "cell_type": "code",
   "execution_count": 8,
   "metadata": {},
   "outputs": [
    {
     "name": "stdout",
     "output_type": "stream",
     "text": [
      "['apple', 'blueberry', 'cherry', 'date', 'elderberry', 'fig', 'grape']\n"
     ]
    }
   ],
   "source": [
    "# Modifying list elements\n",
    "# You can change the value of a specific item by referring to its index number.\n",
    "fruits[1] = 'blueberry'\n",
    "print(fruits)"
   ]
  },
  {
   "cell_type": "code",
   "execution_count": 9,
   "metadata": {},
   "outputs": [
    {
     "name": "stdout",
     "output_type": "stream",
     "text": [
      "['apple', 'blackberry', 'cantaloupe', 'date', 'elderberry', 'fig', 'grape']\n"
     ]
    }
   ],
   "source": [
    "fruits[1:3] = ['blackberry', 'cantaloupe']\n",
    "print(fruits)"
   ]
  },
  {
   "cell_type": "code",
   "execution_count": 10,
   "metadata": {},
   "outputs": [
    {
     "name": "stdout",
     "output_type": "stream",
     "text": [
      "['apple', 'w', 'a', 't', 'e', 'r', 'm', 'e', 'l', 'o', 'n']\n"
     ]
    }
   ],
   "source": [
    "fruits[1:] = 'watermelon'\n",
    "print(fruits)"
   ]
  },
  {
   "cell_type": "code",
   "execution_count": 13,
   "metadata": {},
   "outputs": [
    {
     "name": "stdout",
     "output_type": "stream",
     "text": [
      "['apple', 'banana', 'cherry', 'date', 'elderberry', 'fig', 'grape', 'kiwi']\n"
     ]
    }
   ],
   "source": [
    "fruits = ['apple', 'banana', 'cherry', 'date', 'elderberry', 'fig', 'grape']\n",
    "fruits.append('kiwi')\n",
    "print(fruits)"
   ]
  },
  {
   "cell_type": "code",
   "execution_count": 15,
   "metadata": {},
   "outputs": [
    {
     "name": "stdout",
     "output_type": "stream",
     "text": [
      "['apple', 'banana', 'mango', 'mango', 'cherry', 'date', 'elderberry', 'fig', 'grape', 'kiwi']\n"
     ]
    }
   ],
   "source": [
    "fruits.insert(2, 'mango')\n",
    "print(fruits)"
   ]
  },
  {
   "cell_type": "code",
   "execution_count": 3,
   "metadata": {},
   "outputs": [
    {
     "name": "stdout",
     "output_type": "stream",
     "text": [
      "(1, 2, 3, 4, 5, 6)\n"
     ]
    }
   ],
   "source": [
    "# Tuples are immutable, so you can't change elements in a tuple.\n",
    "# You can't add elements to a tuple, or remove elements from it.\n",
    "# You can also use the tuple() constructor to create a tuple.\n",
    "\n",
    "my_tuple = (1, 2, 3, 4, 5, 6)\n",
    "print(my_tuple)"
   ]
  },
  {
   "cell_type": "code",
   "execution_count": 4,
   "metadata": {},
   "outputs": [
    {
     "ename": "TypeError",
     "evalue": "'tuple' object does not support item assignment",
     "output_type": "error",
     "traceback": [
      "\u001b[1;31m---------------------------------------------------------------------------\u001b[0m",
      "\u001b[1;31mTypeError\u001b[0m                                 Traceback (most recent call last)",
      "Cell \u001b[1;32mIn[4], line 1\u001b[0m\n\u001b[1;32m----> 1\u001b[0m my_tuple[\u001b[38;5;241m1\u001b[39m] \u001b[38;5;241m=\u001b[39m \u001b[38;5;241m4\u001b[39m\n",
      "\u001b[1;31mTypeError\u001b[0m: 'tuple' object does not support item assignment"
     ]
    }
   ],
   "source": [
    "my_tuple[1] = 4 # This will raise an error"
   ]
  },
  {
   "cell_type": "code",
   "execution_count": 6,
   "metadata": {},
   "outputs": [
    {
     "name": "stdout",
     "output_type": "stream",
     "text": [
      "1\n",
      "3\n"
     ]
    }
   ],
   "source": [
    "print(my_tuple.count(4)) # Output: 1\n",
    "print(my_tuple.index(4)) # Output: 3"
   ]
  },
  {
   "cell_type": "code",
   "execution_count": 7,
   "metadata": {},
   "outputs": [
    {
     "name": "stdout",
     "output_type": "stream",
     "text": [
      "(3, 4.6, 'dog')\n"
     ]
    }
   ],
   "source": [
    "# Packing tuples\n",
    "# You can \"pack\" a sequence of values into a tuple without using parentheses.\n",
    "\n",
    "packed_tuple = 3, 4.6, \"dog\"\n",
    "print(packed_tuple) # Output: (3, 4.6, \"dog\")"
   ]
  },
  {
   "cell_type": "code",
   "execution_count": 8,
   "metadata": {},
   "outputs": [
    {
     "name": "stdout",
     "output_type": "stream",
     "text": [
      "3\n",
      "4.6\n"
     ]
    }
   ],
   "source": [
    "# Unpacking tuples\n",
    "# You can also \"unpack\" a tuple into individual variables.\n",
    "\n",
    "a, b, c = packed_tuple\n",
    "print(a) # Output: 3\n",
    "print(b) # Output: 4.6"
   ]
  },
  {
   "cell_type": "code",
   "execution_count": 9,
   "metadata": {},
   "outputs": [
    {
     "name": "stdout",
     "output_type": "stream",
     "text": [
      "1\n",
      "[2, 3, 4, 5]\n",
      "6\n"
     ]
    }
   ],
   "source": [
    "numbers = (1, 2, 3, 4, 5, 6)\n",
    "a, *b, c = numbers\n",
    "print(a) # Output: 1\n",
    "print(b) # Output: [2, 3, 4, 5]\n",
    "print(c) # Output: 6\n",
    "\n",
    "# Sets are unordered collections of unique elements.\n",
    "# Sets are mutable, so you can add or remove elements from them."
   ]
  },
  {
   "cell_type": "code",
   "execution_count": 10,
   "metadata": {},
   "outputs": [
    {
     "name": "stdout",
     "output_type": "stream",
     "text": [
      "(3, 4)\n"
     ]
    }
   ],
   "source": [
    "# Nested tuples\n",
    "# You can also nest tuples within other tuples.\n",
    "\n",
    "nested_tuple = (1, 2, (3, 4), 5)\n",
    "print(nested_tuple[2]) # Output: (3, 4)"
   ]
  },
  {
   "cell_type": "code",
   "execution_count": 13,
   "metadata": {},
   "outputs": [
    {
     "name": "stdout",
     "output_type": "stream",
     "text": [
      "1\n",
      "\n",
      "2\n",
      "\n",
      "3\n",
      "4\n",
      "\n",
      "5\n",
      "\n"
     ]
    }
   ],
   "source": [
    "nested_tuple = (1, 2, (3, 4), 5)\n",
    "\n",
    "for item in nested_tuple:\n",
    "    if isinstance(item, tuple):\n",
    "        for subitem in item:\n",
    "            print(subitem)\n",
    "    else:\n",
    "        print(item)\n",
    "    print()"
   ]
  },
  {
   "cell_type": "code",
   "execution_count": 2,
   "metadata": {},
   "outputs": [
    {
     "name": "stdout",
     "output_type": "stream",
     "text": [
      "{1, 2, 3, 4, 5}\n",
      "<class 'set'>\n"
     ]
    }
   ],
   "source": [
    "# Sets in Python\n",
    "# Sets are unordered collections of unique elements. \n",
    "# Sets are mutable, so you can add or remove elements from them.\n",
    "\n",
    "my_set = {1, 2, 3, 4, 5}\n",
    "print(my_set)\n",
    "print(type(my_set))"
   ]
  },
  {
   "cell_type": "code",
   "execution_count": 3,
   "metadata": {},
   "outputs": [
    {
     "name": "stdout",
     "output_type": "stream",
     "text": [
      "set()\n"
     ]
    }
   ],
   "source": [
    "my_empty_set = set()  # Create an empty set\n",
    "print(my_empty_set)"
   ]
  },
  {
   "cell_type": "code",
   "execution_count": 4,
   "metadata": {},
   "outputs": [
    {
     "name": "stdout",
     "output_type": "stream",
     "text": [
      "{1, 2, 3, 4, 5}\n"
     ]
    }
   ],
   "source": [
    "# Note on duplicates: Sets cannot have duplicate elements.\n",
    "# If you try to add a duplicate element to a set, it will be ignored.\n",
    "\n",
    "my_set = {1, 2, 3, 4, 5, 5, 5}\n",
    "print(my_set) # Output: {1, 2, 3, 4, 5}"
   ]
  },
  {
   "cell_type": "code",
   "execution_count": 5,
   "metadata": {},
   "outputs": [
    {
     "name": "stdout",
     "output_type": "stream",
     "text": [
      "{1, 2, 3, 4, 5, 6, 7, 8}\n",
      "{4, 5}\n"
     ]
    }
   ],
   "source": [
    "# Basic set operations\n",
    "# You can perform various operations on sets, such as union, intersection, \n",
    "# difference, and symmetric difference.\n",
    "\n",
    "my_set = {1, 2, 3, 4, 5}\n",
    "your_set = {4, 5, 6, 7, 8}\n",
    "\n",
    "print(my_set.union(your_set)) # Output: {1, 2, 3, 4, 5, 6, 7, 8}\n",
    "print(my_set.intersection(your_set)) # Output: {4, 5}"
   ]
  },
  {
   "cell_type": "code",
   "execution_count": 6,
   "metadata": {},
   "outputs": [
    {
     "name": "stdout",
     "output_type": "stream",
     "text": [
      "{1, 2, 3, 4, 5, 6}\n"
     ]
    }
   ],
   "source": [
    "my_set.add(6)\n",
    "print(my_set) # Output: {1, 2, 3, 4, 5, 6}"
   ]
  },
  {
   "cell_type": "code",
   "execution_count": 7,
   "metadata": {},
   "outputs": [
    {
     "name": "stdout",
     "output_type": "stream",
     "text": [
      "{1, 2, 3, 4, 5}\n"
     ]
    }
   ],
   "source": [
    "my_set.remove(6)\n",
    "print(my_set) # Output: {1, 2, 3, 4, 5}"
   ]
  },
  {
   "cell_type": "code",
   "execution_count": 8,
   "metadata": {},
   "outputs": [
    {
     "ename": "KeyError",
     "evalue": "7",
     "output_type": "error",
     "traceback": [
      "\u001b[1;31m---------------------------------------------------------------------------\u001b[0m",
      "\u001b[1;31mKeyError\u001b[0m                                  Traceback (most recent call last)",
      "Cell \u001b[1;32mIn[8], line 1\u001b[0m\n\u001b[1;32m----> 1\u001b[0m my_set\u001b[38;5;241m.\u001b[39mremove(\u001b[38;5;241m7\u001b[39m)\n",
      "\u001b[1;31mKeyError\u001b[0m: 7"
     ]
    }
   ],
   "source": [
    "my_set.remove(7) # This will raise an error"
   ]
  },
  {
   "cell_type": "code",
   "execution_count": 9,
   "metadata": {},
   "outputs": [
    {
     "name": "stdout",
     "output_type": "stream",
     "text": [
      "{1, 2, 4, 5}\n"
     ]
    }
   ],
   "source": [
    "# Discard\n",
    "# The discard() method removes the specified item from the set.\n",
    "\n",
    "my_set = {1, 2, 3, 4, 5}\n",
    "my_set.discard(3)\n",
    "print(my_set) # Output: {1, 2, 4, 5}"
   ]
  },
  {
   "cell_type": "code",
   "execution_count": 10,
   "metadata": {},
   "outputs": [
    {
     "name": "stdout",
     "output_type": "stream",
     "text": [
      "{2, 3, 4, 5}\n"
     ]
    }
   ],
   "source": [
    "# Pop\n",
    "# The pop() method removes a random item from the set.\n",
    "\n",
    "my_set = {1, 2, 3, 4, 5}\n",
    "my_set.pop()\n",
    "print(my_set) # Output: {2, 3, 4, 5}"
   ]
  },
  {
   "cell_type": "code",
   "execution_count": 11,
   "metadata": {},
   "outputs": [
    {
     "name": "stdout",
     "output_type": "stream",
     "text": [
      "2\n"
     ]
    }
   ],
   "source": [
    "removed_item = my_set.pop()\n",
    "print(removed_item) # Output: 2 "
   ]
  },
  {
   "cell_type": "code",
   "execution_count": 13,
   "metadata": {},
   "outputs": [
    {
     "name": "stdout",
     "output_type": "stream",
     "text": [
      "set()\n"
     ]
    }
   ],
   "source": [
    "# Clear all elements\n",
    "my_set.clear()\n",
    "print(my_set) # Output: set()"
   ]
  },
  {
   "cell_type": "code",
   "execution_count": 14,
   "metadata": {},
   "outputs": [
    {
     "name": "stdout",
     "output_type": "stream",
     "text": [
      "True\n",
      "False\n"
     ]
    }
   ],
   "source": [
    "# Set membership test\n",
    "# You can check if an element is present in a set using the in keyword.\n",
    "\n",
    "my_set = {1, 2, 3, 4, 5}\n",
    "print(1 in my_set) # Output: True\n",
    "print(6 in my_set) # Output: False"
   ]
  },
  {
   "cell_type": "code",
   "execution_count": null,
   "metadata": {},
   "outputs": [
    {
     "name": "stdout",
     "output_type": "stream",
     "text": [
      "{1, 2, 3}\n"
     ]
    }
   ],
   "source": [
    "# Mathematical set operations\n",
    "# You can perform various mathematical operations on sets, such as union, intersection,\n",
    "\n",
    "# Difference\n",
    "# The difference() method returns a set that contains the difference between two sets.\n",
    "# In other words, it returns a set that contains the elements that are in the first set \n",
    "# but not in the second set.\n",
    "set_1 = {1, 2, 3, 4, 5}\n",
    "set_2 = {4, 5, 6, 7, 8}\n",
    "\n",
    "print(set_1.difference(set_2)) # Output: {1, 2, 3}"
   ]
  },
  {
   "cell_type": "code",
   "execution_count": 16,
   "metadata": {},
   "outputs": [
    {
     "name": "stdout",
     "output_type": "stream",
     "text": [
      "{1, 2, 3, 4, 5, 6, 7, 8}\n"
     ]
    }
   ],
   "source": [
    "# Union\n",
    "# The union() method returns a set that contains all items from both sets.\n",
    "\n",
    "print(set_1.union(set_2)) # Output: {1, 2, 3, 4, 5, 6, 7, 8}"
   ]
  },
  {
   "cell_type": "code",
   "execution_count": 17,
   "metadata": {},
   "outputs": [
    {
     "name": "stdout",
     "output_type": "stream",
     "text": [
      "{4, 5}\n"
     ]
    }
   ],
   "source": [
    "#Intersection\n",
    "# The intersection() method returns a set that contains the items that are present in \n",
    "# both sets.\n",
    "\n",
    "print(set_1.intersection(set_2)) # Output: {4, 5}"
   ]
  },
  {
   "cell_type": "code",
   "execution_count": 18,
   "metadata": {},
   "outputs": [
    {
     "name": "stdout",
     "output_type": "stream",
     "text": [
      "{4, 5}\n"
     ]
    }
   ],
   "source": [
    "set_1.intersection_update(set_2)\n",
    "print(set_1) # Output: {4, 5}"
   ]
  },
  {
   "cell_type": "code",
   "execution_count": null,
   "metadata": {},
   "outputs": [],
   "source": []
  }
 ],
 "metadata": {
  "kernelspec": {
   "display_name": "newenv",
   "language": "python",
   "name": "python3"
  },
  "language_info": {
   "codemirror_mode": {
    "name": "ipython",
    "version": 3
   },
   "file_extension": ".py",
   "mimetype": "text/x-python",
   "name": "python",
   "nbconvert_exporter": "python",
   "pygments_lexer": "ipython3",
   "version": "3.12.4"
  }
 },
 "nbformat": 4,
 "nbformat_minor": 2
}
