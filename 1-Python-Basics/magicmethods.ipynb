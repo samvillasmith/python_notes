{
 "cells": [
  {
   "cell_type": "code",
   "execution_count": 1,
   "id": "e748fc66",
   "metadata": {},
   "outputs": [],
   "source": [
    "# Magic methods are special methods in Python that start and end with \n",
    "# double underscores. \n",
    "# They are also called dunder methods.\n",
    "# They allow us to define the behavior of our objects for built-in\n",
    "# operations like addition, subtraction, etc.\n",
    "\n",
    "\n",
    "# The __init__ method is a special method that is called when an \n",
    "# object is created. It is used to initialize the object's attributes.\n",
    "\n",
    "# The __str__ method is a special method that is called when we\n",
    "# print an object. It is used to define the string representation of the object.\n",
    "\n",
    "# The __repr__ method is a special method that is called when we\n",
    "# use the repr() function on an object. It is used to define the\n",
    "# official string representation of the object. It should be unambiguous\n",
    "# and, if possible, match the code that would create the object.\n",
    "\n",
    "# The __add__ method is a special method that is called when we use the\n",
    "# + operator on an object. It is used to define the behavior of the\n",
    "# addition operation for the object.\n",
    "\n",
    "# The __sub__ method is a special method that is called when we use the\n",
    "# - operator on an object. It is used to define the behavior of the\n",
    "# subtraction operation for the object.\n",
    "\n",
    "# The __mul__ method is a special method that is called when we use the\n",
    "# * operator on an object. It is used to define the behavior of the\n",
    "# multiplication operation for the object. \n",
    "\n",
    "# The __truediv__ method is a special method that is called when we use the\n",
    "# / operator on an object. It is used to define the behavior of the\n",
    "# division operation for the object.\n",
    "\n",
    "# The __getitem__ method is a special method that is called when we use the\n",
    "# [] operator on an object. It is used to define the behavior of the\n",
    "# indexing operation for the object.\n",
    "\n",
    "# The __setitem__ method is a special method that is called when we use the\n",
    "# [] operator on an object. It is used to define the behavior of the\n",
    "# indexing operation for the object."
   ]
  },
  {
   "cell_type": "code",
   "execution_count": 3,
   "id": "08f6d090",
   "metadata": {},
   "outputs": [
    {
     "name": "stdout",
     "output_type": "stream",
     "text": [
      "<__main__.Person object at 0x0000017343AEA0F0>\n",
      "<class '__main__.Person'>\n",
      "['__class__', '__delattr__', '__dict__', '__dir__', '__doc__', '__eq__', '__format__', '__ge__', '__getattribute__', '__getstate__', '__gt__', '__hash__', '__init__', '__init_subclass__', '__le__', '__lt__', '__module__', '__ne__', '__new__', '__reduce__', '__reduce_ex__', '__repr__', '__setattr__', '__sizeof__', '__str__', '__subclasshook__', '__weakref__']\n"
     ]
    }
   ],
   "source": [
    "class Person:\n",
    "    pass\n",
    "\n",
    "person = Person()\n",
    "print(person)  # <__main__.Person object at 0x7f8c8c2e3d90>\n",
    "print(type(person))  # <class '__main__.Person'>\n",
    "print(dir(person))"
   ]
  },
  {
   "cell_type": "code",
   "execution_count": 4,
   "id": "741652b8",
   "metadata": {},
   "outputs": [],
   "source": [
    "# Method overriding is the ability to change the behavior of a \n",
    "# method in a subclass. It allows a subclass to provide a specific \n",
    "# implementation of a method that is already defined in its superclass."
   ]
  },
  {
   "cell_type": "code",
   "execution_count": 9,
   "id": "e38faa24",
   "metadata": {},
   "outputs": [
    {
     "name": "stdout",
     "output_type": "stream",
     "text": [
      "John 30 years old\n",
      "Person(name=John, age=30)\n"
     ]
    }
   ],
   "source": [
    "class Person:\n",
    "    def __init__(self, name, age):\n",
    "        self.name = name\n",
    "        self.age = age\n",
    "\n",
    "    def __str__(self):\n",
    "        return f\"{self.name} {self.age} years old\"\n",
    "    \n",
    "    def __repr__(self):\n",
    "        return f\"Person(name={self.name}, age={self.age})\"\n",
    "    \n",
    "    # In this case, we are overriding the __str__ method to provide a\n",
    "    # custom string representation of the Person object.\n",
    "\n",
    "    # By contrast, the __repr__ method is meant to provide a more\n",
    "    # detailed and unambiguous representation of the object, which can \n",
    "    # be useful for debugging or logging purposes.\n",
    "        \n",
    "person = Person(\"John\", 30)\n",
    "print(person)\n",
    "print(repr(person))"
   ]
  },
  {
   "cell_type": "code",
   "execution_count": null,
   "id": "bbf0728e",
   "metadata": {},
   "outputs": [],
   "source": []
  }
 ],
 "metadata": {
  "kernelspec": {
   "display_name": "newenv",
   "language": "python",
   "name": "newenv"
  },
  "language_info": {
   "codemirror_mode": {
    "name": "ipython",
    "version": 3
   },
   "file_extension": ".py",
   "mimetype": "text/x-python",
   "name": "python",
   "nbconvert_exporter": "python",
   "pygments_lexer": "ipython3",
   "version": "3.12.4"
  }
 },
 "nbformat": 4,
 "nbformat_minor": 5
}
