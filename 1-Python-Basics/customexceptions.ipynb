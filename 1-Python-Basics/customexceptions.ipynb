{
 "cells": [
  {
   "cell_type": "code",
   "execution_count": 1,
   "id": "4b87b50c",
   "metadata": {},
   "outputs": [],
   "source": [
    "# Custom exception handing"
   ]
  },
  {
   "cell_type": "code",
   "execution_count": 2,
   "id": "895a50cd",
   "metadata": {},
   "outputs": [],
   "source": [
    "class Error(Exception):\n",
    "    pass \n",
    "\n",
    "class dobException(Error):\n",
    "    pass"
   ]
  },
  {
   "cell_type": "code",
   "execution_count": null,
   "id": "45bef58d",
   "metadata": {},
   "outputs": [],
   "source": [
    "year = int(input(\"Enter your year of birth: \"))\n",
    "age = 2025 - year\n",
    "\n",
    "try:\n",
    "    if age <= 30 and age >= 20:\n",
    "        print(\"You are in your 20s\")\n",
    "    elif age <= 40 and age >= 30:\n",
    "        print(\"You are in your 30s\")\n",
    "    elif age <= 50 and age >= 40:\n",
    "        print(\"You are in your 40s\")\n",
    "    else:\n",
    "        raise dobException\n",
    "except dobException:\n",
    "    print(\"You are not in your 20s, 30s, or 40s\")"
   ]
  }
 ],
 "metadata": {
  "kernelspec": {
   "display_name": "newenv",
   "language": "python",
   "name": "newenv"
  },
  "language_info": {
   "codemirror_mode": {
    "name": "ipython",
    "version": 3
   },
   "file_extension": ".py",
   "mimetype": "text/x-python",
   "name": "python",
   "nbconvert_exporter": "python",
   "pygments_lexer": "ipython3",
   "version": "3.12.4"
  }
 },
 "nbformat": 4,
 "nbformat_minor": 5
}
