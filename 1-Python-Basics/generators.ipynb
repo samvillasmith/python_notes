{
 "cells": [
  {
   "cell_type": "markdown",
   "id": "e53effcc",
   "metadata": {},
   "source": [
    "## Generators\n",
    "\n",
    "#### Generators are a special type of iterator that allow you to iterate over a sequence of values without storing them in memory all at once.\n",
    "#### They are defined using a function with the `yield` keyword instead of `return`."
   ]
  },
  {
   "cell_type": "code",
   "execution_count": 3,
   "id": "79e8f1b4",
   "metadata": {},
   "outputs": [],
   "source": [
    "def square(n):\n",
    "    for i in range(n):\n",
    "        yield i ** 2 # This is a generator function \n",
    "        # that yields the square of numbers from 0 to n-1."
   ]
  },
  {
   "cell_type": "code",
   "execution_count": 4,
   "id": "f828aa9c",
   "metadata": {},
   "outputs": [
    {
     "data": {
      "text/plain": [
       "<generator object square at 0x0000023F187081E0>"
      ]
     },
     "execution_count": 4,
     "metadata": {},
     "output_type": "execute_result"
    }
   ],
   "source": [
    "square(3)"
   ]
  },
  {
   "cell_type": "code",
   "execution_count": 5,
   "id": "b47920be",
   "metadata": {},
   "outputs": [
    {
     "name": "stdout",
     "output_type": "stream",
     "text": [
      "0\n",
      "1\n",
      "4\n"
     ]
    }
   ],
   "source": [
    "for i in square(3):\n",
    "    print(i) # This will print 0, 1, 4"
   ]
  },
  {
   "cell_type": "code",
   "execution_count": 6,
   "id": "4e54b17b",
   "metadata": {},
   "outputs": [
    {
     "name": "stdout",
     "output_type": "stream",
     "text": [
      "<generator object square at 0x0000023F1870B2A0>\n",
      "0\n"
     ]
    }
   ],
   "source": [
    "a = square(3)\n",
    "print(a) # This will print the generator object\n",
    "print(next(a)) # This will print 0"
   ]
  },
  {
   "cell_type": "code",
   "execution_count": 7,
   "id": "c64d9ee5",
   "metadata": {},
   "outputs": [
    {
     "data": {
      "text/plain": [
       "1"
      ]
     },
     "execution_count": 7,
     "metadata": {},
     "output_type": "execute_result"
    }
   ],
   "source": [
    "next(a) # This will print 1"
   ]
  },
  {
   "cell_type": "code",
   "execution_count": 10,
   "id": "b24ab84d",
   "metadata": {},
   "outputs": [
    {
     "ename": "StopIteration",
     "evalue": "",
     "output_type": "error",
     "traceback": [
      "\u001b[1;31m---------------------------------------------------------------------------\u001b[0m",
      "\u001b[1;31mStopIteration\u001b[0m                             Traceback (most recent call last)",
      "Cell \u001b[1;32mIn[10], line 1\u001b[0m\n\u001b[1;32m----> 1\u001b[0m \u001b[38;5;28mnext\u001b[39m(a)\n",
      "\u001b[1;31mStopIteration\u001b[0m: "
     ]
    }
   ],
   "source": [
    "next(a) "
   ]
  },
  {
   "cell_type": "code",
   "execution_count": 11,
   "id": "89d77414",
   "metadata": {},
   "outputs": [],
   "source": [
    "def my_generator():\n",
    "    yield 1\n",
    "    yield 2\n",
    "    yield 3"
   ]
  },
  {
   "cell_type": "code",
   "execution_count": 12,
   "id": "9c4a2c5d",
   "metadata": {},
   "outputs": [
    {
     "name": "stdout",
     "output_type": "stream",
     "text": [
      "1\n",
      "2\n",
      "3\n"
     ]
    }
   ],
   "source": [
    "gen = my_generator()\n",
    "print(next(gen)) # This will print 1\n",
    "print(next(gen)) # This will print 2\n",
    "print(next(gen)) # This will print 3"
   ]
  },
  {
   "cell_type": "code",
   "execution_count": 13,
   "id": "43a6a942",
   "metadata": {},
   "outputs": [],
   "source": [
    "for val in gen:\n",
    "    print(val) # This will not print anything as the generator is exhausted\n",
    "# The generator is exhausted after the last value is yielded."
   ]
  },
  {
   "cell_type": "markdown",
   "id": "b9b99c13",
   "metadata": {},
   "source": [
    "### Practical Example: Reading a Large File\n",
    "\n",
    "#### Let's say you have a large text file and you want to read it line by line without loading the entire file into memory. You can use a generator to achieve thiss."
   ]
  },
  {
   "cell_type": "code",
   "execution_count": 14,
   "id": "a140b563",
   "metadata": {},
   "outputs": [],
   "source": [
    "# Practical example: reading a large file line by line\n",
    "def read_large_file(file_name):\n",
    "    with open(file_name, 'r') as f:\n",
    "        for line in f:\n",
    "            yield line.strip() # This will yield each line from the file"
   ]
  },
  {
   "cell_type": "code",
   "execution_count": 15,
   "id": "e5fb2ff1",
   "metadata": {},
   "outputs": [
    {
     "name": "stdout",
     "output_type": "stream",
     "text": [
      "lorem ipsum dolor sit amet\n",
      "consectetur adipiscing elit\n",
      "sed do eiusmod tempor incididunt ut labore et dolore magna aliqua\n",
      "ut enim ad minim veniam\n",
      "quis nostrud exercitation ullamco laboris nisi ut aliquip ex ea commodo consequat\n",
      "duis aute irure dolor in reprehenderit in voluptate velit esse cillum dolore eu fugiat nulla pariatur\n",
      "excepteur sint occaecat cupidatat non proident\n",
      "sunt in culpa qui officia deserunt mollit anim id est laborum\n",
      "lorem ipsum dolor sit amet\n",
      "consectetur adipiscing elit\n",
      "sed do eiusmod tempor incididunt ut labore et dolore magna aliqua\n",
      "ut enim ad minim veniam\n",
      "quis nostrud exercitation ullamco laboris nisi ut aliquip ex ea commodo consequat\n",
      "duis aute irure dolor in reprehenderit in voluptate velit esse cillum dolore eu fugiat nulla pariatur\n",
      "excepteur sint occaecat cupidatat non proident\n",
      "sunt in culpa qui officia deserunt mollit anim id est laborum\n",
      "lorem ipsum dolor sit amet\n",
      "consectetur adipiscing elit\n",
      "sed do eiusmod tempor incididunt ut labore et dolore magna aliqua\n",
      "ut enim ad minim veniam\n",
      "quis nostrud exercitation ullamco laboris nisi ut aliquip ex ea commodo consequat\n",
      "duis aute irure dolor in reprehenderit in voluptate velit esse cillum dolore eu fugiat nulla pariatur\n",
      "excepteur sint occaecat cupidatat non proident\n",
      "sunt in culpa qui officia deserunt mollit anim id est laborum\n",
      "lorem ipsum dolor sit amet\n",
      "consectetur adipiscing elit\n",
      "sed do eiusmod tempor incididunt ut labore et dolore magna aliqua\n",
      "ut enim ad minim veniam\n",
      "quis nostrud exercitation ullamco laboris nisi ut aliquip ex ea commodo consequat\n"
     ]
    }
   ],
   "source": [
    "file_path = 'large_file.txt'\n",
    "\n",
    "for line in read_large_file(file_path):\n",
    "    print(line) # This will print each line from the file\n",
    "# Note: Make sure to create a file named 'large_file.txt' \n",
    "# with some content to test the file reading example."
   ]
  },
  {
   "cell_type": "code",
   "execution_count": null,
   "id": "71c84b16",
   "metadata": {},
   "outputs": [],
   "source": []
  }
 ],
 "metadata": {
  "kernelspec": {
   "display_name": "newenv",
   "language": "python",
   "name": "newenv"
  },
  "language_info": {
   "codemirror_mode": {
    "name": "ipython",
    "version": 3
   },
   "file_extension": ".py",
   "mimetype": "text/x-python",
   "name": "python",
   "nbconvert_exporter": "python",
   "pygments_lexer": "ipython3",
   "version": "3.12.4"
  }
 },
 "nbformat": 4,
 "nbformat_minor": 5
}
