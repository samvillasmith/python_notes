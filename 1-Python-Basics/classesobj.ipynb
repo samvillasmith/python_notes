{
 "cells": [
  {
   "cell_type": "code",
   "execution_count": 12,
   "id": "7560c318",
   "metadata": {},
   "outputs": [],
   "source": [
    "# Classes and objects\n",
    "# This program demonstrates the use of classes and objects in Python.\n",
    "# A class is a blueprint for creating objects, and an object \n",
    "# is an instance of a class.\n",
    "# An object can have attributes (data) and methods (functions)."
   ]
  },
  {
   "cell_type": "code",
   "execution_count": 13,
   "id": "0b94429c",
   "metadata": {},
   "outputs": [
    {
     "name": "stdout",
     "output_type": "stream",
     "text": [
      "<class '__main__.Car'>\n",
      "<class '__main__.Car'>\n"
     ]
    }
   ],
   "source": [
    "class Car:\n",
    "    pass\n",
    "\n",
    "audi = Car()  # Create an object of the class Car\n",
    "bmw = Car()  # Create another object of the class Car\n",
    "\n",
    "print(type(audi))  # Output: <class '__main__.Car'>\n",
    "print(type(bmw))  # Output: <class '__main__.Car' >"
   ]
  },
  {
   "cell_type": "code",
   "execution_count": 14,
   "id": "e5c8dd3e",
   "metadata": {},
   "outputs": [
    {
     "name": "stdout",
     "output_type": "stream",
     "text": [
      "4\n"
     ]
    }
   ],
   "source": [
    "# instance variables and methods\n",
    "\n",
    "audi.windows = 4\n",
    "print(audi.windows)  # Output: 4"
   ]
  },
  {
   "cell_type": "code",
   "execution_count": 15,
   "id": "1bac3ed1",
   "metadata": {},
   "outputs": [
    {
     "name": "stdout",
     "output_type": "stream",
     "text": [
      "2\n"
     ]
    }
   ],
   "source": [
    "chevy = Car()\n",
    "chevy.doors = 2\n",
    "print(chevy.doors)"
   ]
  },
  {
   "cell_type": "code",
   "execution_count": 16,
   "id": "683c8654",
   "metadata": {},
   "outputs": [
    {
     "data": {
      "text/plain": [
       "['__class__',\n",
       " '__delattr__',\n",
       " '__dict__',\n",
       " '__dir__',\n",
       " '__doc__',\n",
       " '__eq__',\n",
       " '__format__',\n",
       " '__ge__',\n",
       " '__getattribute__',\n",
       " '__getstate__',\n",
       " '__gt__',\n",
       " '__hash__',\n",
       " '__init__',\n",
       " '__init_subclass__',\n",
       " '__le__',\n",
       " '__lt__',\n",
       " '__module__',\n",
       " '__ne__',\n",
       " '__new__',\n",
       " '__reduce__',\n",
       " '__reduce_ex__',\n",
       " '__repr__',\n",
       " '__setattr__',\n",
       " '__sizeof__',\n",
       " '__str__',\n",
       " '__subclasshook__',\n",
       " '__weakref__',\n",
       " 'doors']"
      ]
     },
     "execution_count": 16,
     "metadata": {},
     "output_type": "execute_result"
    }
   ],
   "source": [
    "dir(chevy)"
   ]
  },
  {
   "cell_type": "code",
   "execution_count": 17,
   "id": "bbb24112",
   "metadata": {},
   "outputs": [
    {
     "name": "stdout",
     "output_type": "stream",
     "text": [
      "1\n",
      "fido\n"
     ]
    }
   ],
   "source": [
    "class Dog:\n",
    "    #constructor\n",
    "    def __init__(self, name, age):\n",
    "        self.name = name\n",
    "        self.age = age\n",
    "\n",
    "dog1 = Dog('fido', 1)\n",
    "print(dog1.age)\n",
    "print(dog1.name)\n"
   ]
  },
  {
   "cell_type": "code",
   "execution_count": 18,
   "id": "a46f6f76",
   "metadata": {},
   "outputs": [
    {
     "name": "stdout",
     "output_type": "stream",
     "text": [
      "biscuit says woof\n"
     ]
    }
   ],
   "source": [
    "# Deine a class with an instance method\n",
    "class Dog:\n",
    "    def __init__(self, name, age):\n",
    "        self.name = name\n",
    "        self.age = age\n",
    "    def bark(self):\n",
    "        print(f\"{self.name} says woof\")\n",
    "\n",
    "dog2 = Dog(\"biscuit\", 2)\n",
    "dog2.bark()"
   ]
  },
  {
   "cell_type": "code",
   "execution_count": 19,
   "id": "4513d605",
   "metadata": {},
   "outputs": [
    {
     "name": "stdout",
     "output_type": "stream",
     "text": [
      "500 is deposited. New balance is 600\n",
      "insufficent funds\n",
      "400 is withdrawn. New balance is 200\n"
     ]
    },
    {
     "data": {
      "text/plain": [
       "200"
      ]
     },
     "execution_count": 19,
     "metadata": {},
     "output_type": "execute_result"
    }
   ],
   "source": [
    "# Modeling a bank account\n",
    "\n",
    "class BankAccount:\n",
    "    def __init__(self, owner, balance=0):\n",
    "        self.owner = owner\n",
    "        self.balance = balance\n",
    "    def deposit(self, amount):\n",
    "        self.balance += amount\n",
    "        print(f\"{amount} is deposited. New balance is {self.balance}\")\n",
    "    def withdraw(self, amount):\n",
    "        if amount > self.balance:\n",
    "            print(\"insufficent funds\")\n",
    "        else:\n",
    "            self.balance -= amount\n",
    "            print(f\"{amount} is withdrawn. New balance is {self.balance}\")\n",
    "    def get_balance(self):\n",
    "        return self.balance\n",
    "\n",
    "sams_account = BankAccount(\"Sam\", 100)\n",
    "\n",
    "sams_account.get_balance()\n",
    "sams_account.deposit(500)\n",
    "sams_account.withdraw(700)\n",
    "sams_account.withdraw(400)\n",
    "sams_account.get_balance()\n"
   ]
  },
  {
   "cell_type": "code",
   "execution_count": 20,
   "id": "7ef36323",
   "metadata": {},
   "outputs": [],
   "source": [
    "# Inheritence in python, where a class can inherit attributes & methods\n",
    "# from another class\n",
    "\n",
    "class Car:\n",
    "    def __init__(self, windows, doors, engine_type):\n",
    "        self.windows = windows\n",
    "        self.doors = doors\n",
    "        self.engine_type = engine_type\n",
    "    def drive(self):\n",
    "        print(f\"The person will drive the {self.engine_type} car.\")\n"
   ]
  },
  {
   "cell_type": "code",
   "execution_count": 21,
   "id": "5ee762a1",
   "metadata": {},
   "outputs": [
    {
     "name": "stdout",
     "output_type": "stream",
     "text": [
      "The person will drive the gas car.\n",
      "None\n"
     ]
    }
   ],
   "source": [
    "car1 = Car(4, 5, \"gas\")\n",
    "print(car1.drive())"
   ]
  },
  {
   "cell_type": "code",
   "execution_count": 22,
   "id": "294c9a6c",
   "metadata": {},
   "outputs": [
    {
     "name": "stdout",
     "output_type": "stream",
     "text": [
      "Peterbuilt vehicles are commercial semi-trucks\n",
      "The person will drive the diesel car.\n"
     ]
    }
   ],
   "source": [
    "class Peterbilt(Car):\n",
    "    def __init__(self, windows, doors, engine_type, is_commercial):\n",
    "        super().__init__(windows, doors, engine_type)\n",
    "        self.is_commercial = is_commercial\n",
    "    def commercial(self):\n",
    "        print(\"Peterbuilt vehicles are commercial semi-trucks\")\n",
    "\n",
    "semi = Peterbilt(2, 2, \"diesel\", True)\n",
    "\n",
    "semi.commercial()\n",
    "semi.drive()"
   ]
  },
  {
   "cell_type": "code",
   "execution_count": 27,
   "id": "04bed548",
   "metadata": {},
   "outputs": [
    {
     "name": "stdout",
     "output_type": "stream",
     "text": [
      "Johnny is the owner of the dog.\n",
      "Taco says woof\n"
     ]
    }
   ],
   "source": [
    "# Multiple inheritence, when a class inherits multiple base classes\n",
    "\n",
    "class Animal:\n",
    "    def __init__(self, name):\n",
    "        self.name = name\n",
    "    def speak(self):\n",
    "        print(\"Subclasses must implement this method\")\n",
    "\n",
    "class Pet:\n",
    "    def __init__(self, owner):\n",
    "        self.owner = owner\n",
    "\n",
    "# Derived class\n",
    "\n",
    "class Dog(Animal, Pet):\n",
    "    def __init__(self, name, owner):\n",
    "        Animal.__init__(self, name)\n",
    "        Pet.__init__(self, owner)\n",
    "    def speak(self):\n",
    "        return f\"{self.name} says woof\"\n",
    "    \n",
    "dog3 = Dog(\"Taco\", \"Johnny\")\n",
    "print(dog3.owner, \"is the owner of the dog.\")\n",
    "print(dog3.speak())"
   ]
  },
  {
   "cell_type": "code",
   "execution_count": 29,
   "id": "8b6b4b92",
   "metadata": {},
   "outputs": [],
   "source": [
    "# Polymporphism allows objects of different classes to be treated as objects of\n",
    "# A common superclass by method overriding and interfaces"
   ]
  },
  {
   "cell_type": "code",
   "execution_count": 33,
   "id": "ba591626",
   "metadata": {},
   "outputs": [
    {
     "name": "stdout",
     "output_type": "stream",
     "text": [
      "Woof\n",
      "Meow\n"
     ]
    }
   ],
   "source": [
    "# Method overriding allows a child class to provide an implementation for a \n",
    "# method that is already defined in its parent class.\n",
    "\n",
    "# Base class\n",
    "class Animal:\n",
    "    def speak(self):\n",
    "        return \"Sound of the animal\"\n",
    "\n",
    "# Same method, different implementation\n",
    "\n",
    "# Derived class 1\n",
    "class Dog(Animal):\n",
    "    def speak(self):\n",
    "        return \"Woof\"\n",
    "\n",
    "# Derived class 2\n",
    "class Cat(Animal):\n",
    "    def speak(self):\n",
    "        return \"Meow\"\n",
    "    \n",
    "new_dog = Dog()\n",
    "print(new_dog.speak())\n",
    "\n",
    "cat = Cat()\n",
    "print(cat.speak())"
   ]
  },
  {
   "cell_type": "code",
   "execution_count": null,
   "id": "ba143938",
   "metadata": {},
   "outputs": [
    {
     "name": "stdout",
     "output_type": "stream",
     "text": [
      "Woof\n"
     ]
    }
   ],
   "source": [
    "# function that demonstrates polymorphism\n",
    "def animal_speak(animal):\n",
    "    print(animal.speak())\n",
    "animal_speak(new_dog)"
   ]
  },
  {
   "cell_type": "code",
   "execution_count": 38,
   "id": "218566eb",
   "metadata": {},
   "outputs": [
    {
     "name": "stdout",
     "output_type": "stream",
     "text": [
      "the area is 20\n",
      "the area is 28.259999999999998\n"
     ]
    }
   ],
   "source": [
    "# Polymorphism with functions and methods\n",
    "# base class\n",
    "class Shape:\n",
    "    def area(self):\n",
    "        return \"The area of the figure\"\n",
    "\n",
    "# Derived class 1\n",
    "class Rectangle(Shape):\n",
    "    def __init__(self, width, height):\n",
    "        self.width = width\n",
    "        self.height = height\n",
    "    def area(self):\n",
    "        return self.width * self.height\n",
    "    \n",
    "# Derived class 2\n",
    "class Cicle(Shape):\n",
    "    def __init__(self, radius):\n",
    "        self.radius = radius\n",
    "\n",
    "    def area(self):\n",
    "        return 3.14 * self.radius * self.radius\n",
    "\n",
    "# Function that demonstrates polymorphism\n",
    "def print_area(shape):\n",
    "    print(f\"the area is {shape.area()}\")\n",
    "\n",
    "rectangle = Rectangle(4, 5)\n",
    "circle = Cicle(3)\n",
    "\n",
    "print_area(rectangle)\n",
    "print_area(circle)"
   ]
  },
  {
   "cell_type": "code",
   "execution_count": null,
   "id": "f3788faf",
   "metadata": {},
   "outputs": [],
   "source": [
    "# Abstract base classes (ABC) used to implement across different \n",
    "# They enforce certan standards for consistency"
   ]
  },
  {
   "cell_type": "code",
   "execution_count": 39,
   "id": "55118642",
   "metadata": {},
   "outputs": [
    {
     "name": "stdout",
     "output_type": "stream",
     "text": [
      "Car engine started\n",
      "Motorcycle engine started\n"
     ]
    }
   ],
   "source": [
    "from abc import ABC, abstractmethod\n",
    "\n",
    "# Definne an abstract class \n",
    "class Vehicle(ABC):\n",
    "    @abstractmethod\n",
    "    def start_engine(self):\n",
    "        pass\n",
    "\n",
    "# Derived class 1\n",
    "class Car(Vehicle):\n",
    "    def start_engine(self):\n",
    "        return \"Car engine started\"\n",
    "    \n",
    "# Derived class 2\n",
    "class Motorcycle(Vehicle):\n",
    "    def start_engine(self):\n",
    "        return \"Motorcycle engine started\"\n",
    "\n",
    "# Create objects of car and motorcycle\n",
    "motorcycle = Motorcycle()\n",
    "new_car2 = Car()\n",
    "\n",
    "def start_vehicle(vehicle):\n",
    "    print(vehicle.start_engine())\n",
    "\n",
    "start_vehicle(new_car2)\n",
    "start_vehicle(motorcycle)"
   ]
  },
  {
   "cell_type": "code",
   "execution_count": null,
   "id": "79bf9353",
   "metadata": {},
   "outputs": [],
   "source": [
    "# Encapsulation is the bundling of data and methods that operate on \n",
    "# that data within a single unit (class). This concept helps in \n",
    "# restricting access to certain components and can prevent \n",
    "# unintended interference and misuse of the methods and data.\n",
    "# Encapsulation is achieved using private and public access modifiers.\n",
    "# Private members are not accessible from outside the class, \n",
    "# while public members are accessible.\n",
    "# For example, if a class has a private variable, it \n",
    "# can only be accessed within the class itself.\n",
    "\n",
    "# By contrast, abstraction is the concept of hiding the complex\n",
    "# implementation details and showing only the essential features of the object.\n",
    "# It helps in reducing programming complexity and effort.\n",
    "# Abstraction can be achieved using abstract classes and interfaces.\n",
    "# Encapsulation is achieved using private and public access modifiers.\n"
   ]
  },
  {
   "cell_type": "code",
   "execution_count": 41,
   "id": "4dce00d5",
   "metadata": {},
   "outputs": [
    {
     "name": "stdout",
     "output_type": "stream",
     "text": [
      "John\n",
      "30\n"
     ]
    }
   ],
   "source": [
    "class Person:\n",
    "    def __init__(self, name, age):\n",
    "        self.name = name # public attribute\n",
    "        self.age = age # public attribute\n",
    "\n",
    "person = Person(\"John\", 30) \n",
    "print(person.name)  # Output: John\n",
    "print(person.age)  # Output: 30"
   ]
  },
  {
   "cell_type": "code",
   "execution_count": 42,
   "id": "2a252acf",
   "metadata": {},
   "outputs": [
    {
     "data": {
      "text/plain": [
       "['__class__',\n",
       " '__delattr__',\n",
       " '__dict__',\n",
       " '__dir__',\n",
       " '__doc__',\n",
       " '__eq__',\n",
       " '__format__',\n",
       " '__ge__',\n",
       " '__getattribute__',\n",
       " '__getstate__',\n",
       " '__gt__',\n",
       " '__hash__',\n",
       " '__init__',\n",
       " '__init_subclass__',\n",
       " '__le__',\n",
       " '__lt__',\n",
       " '__module__',\n",
       " '__ne__',\n",
       " '__new__',\n",
       " '__reduce__',\n",
       " '__reduce_ex__',\n",
       " '__repr__',\n",
       " '__setattr__',\n",
       " '__sizeof__',\n",
       " '__str__',\n",
       " '__subclasshook__',\n",
       " '__weakref__',\n",
       " 'age',\n",
       " 'name']"
      ]
     },
     "execution_count": 42,
     "metadata": {},
     "output_type": "execute_result"
    }
   ],
   "source": [
    "dir(person)  # List all attributes and methods of the object"
   ]
  },
  {
   "cell_type": "code",
   "execution_count": 43,
   "id": "41fa21b5",
   "metadata": {},
   "outputs": [
    {
     "name": "stdout",
     "output_type": "stream",
     "text": [
      "John\n"
     ]
    }
   ],
   "source": [
    "def get_name(person):\n",
    "    return person.name\n",
    "print(get_name(person))  # Output: John"
   ]
  },
  {
   "cell_type": "code",
   "execution_count": null,
   "id": "001e956b",
   "metadata": {},
   "outputs": [
    {
     "name": "stdout",
     "output_type": "stream",
     "text": [
      "John\n",
      "30\n"
     ]
    }
   ],
   "source": [
    "# Private members are not accessible from outside the class\n",
    "# Private members are prefixed with double underscores\n",
    "\n",
    "class Person:\n",
    "    def __init__(self, name, age, gender):\n",
    "        self.__name = name # private attribute\n",
    "        self.__age = age # private attribute\n",
    "        self.gender = gender # public attribute\n",
    "\n",
    "    def get_name(person):\n",
    "        return person.__name\n",
    "\n",
    "    def get_age(person):\n",
    "        return person.__age\n",
    "\n",
    "person = Person(\"John\", 30, 'male') \n",
    "print(person.get_name())  # Output: John\n",
    "print(person.get_age())  # Output: 30\n",
    "\n",
    "# The following code will raise an error because __name is private\n",
    "# print(person.__name)  # AttributeError: 'Person' object has no attribute '__name'"
   ]
  },
  {
   "cell_type": "code",
   "execution_count": 51,
   "id": "388b4652",
   "metadata": {},
   "outputs": [
    {
     "ename": "AttributeError",
     "evalue": "'Person' object has no attribute 'name'",
     "output_type": "error",
     "traceback": [
      "\u001b[1;31m---------------------------------------------------------------------------\u001b[0m",
      "\u001b[1;31mAttributeError\u001b[0m                            Traceback (most recent call last)",
      "Cell \u001b[1;32mIn[51], line 1\u001b[0m\n\u001b[1;32m----> 1\u001b[0m get_name(person)\n",
      "Cell \u001b[1;32mIn[43], line 2\u001b[0m, in \u001b[0;36mget_name\u001b[1;34m(person)\u001b[0m\n\u001b[0;32m      1\u001b[0m \u001b[38;5;28;01mdef\u001b[39;00m \u001b[38;5;21mget_name\u001b[39m(person):\n\u001b[1;32m----> 2\u001b[0m     \u001b[38;5;28;01mreturn\u001b[39;00m person\u001b[38;5;241m.\u001b[39mname\n",
      "\u001b[1;31mAttributeError\u001b[0m: 'Person' object has no attribute 'name'"
     ]
    }
   ],
   "source": [
    "get_name(person)  # Output: John"
   ]
  },
  {
   "cell_type": "code",
   "execution_count": 50,
   "id": "a67967ca",
   "metadata": {},
   "outputs": [
    {
     "data": {
      "text/plain": [
       "['_Person__age',\n",
       " '_Person__name',\n",
       " '__class__',\n",
       " '__delattr__',\n",
       " '__dict__',\n",
       " '__dir__',\n",
       " '__doc__',\n",
       " '__eq__',\n",
       " '__format__',\n",
       " '__ge__',\n",
       " '__getattribute__',\n",
       " '__getstate__',\n",
       " '__gt__',\n",
       " '__hash__',\n",
       " '__init__',\n",
       " '__init_subclass__',\n",
       " '__le__',\n",
       " '__lt__',\n",
       " '__module__',\n",
       " '__ne__',\n",
       " '__new__',\n",
       " '__reduce__',\n",
       " '__reduce_ex__',\n",
       " '__repr__',\n",
       " '__setattr__',\n",
       " '__sizeof__',\n",
       " '__str__',\n",
       " '__subclasshook__',\n",
       " '__weakref__',\n",
       " 'gender',\n",
       " 'get_age',\n",
       " 'get_name']"
      ]
     },
     "execution_count": 50,
     "metadata": {},
     "output_type": "execute_result"
    }
   ],
   "source": [
    "dir(person)  # List all attributes and methods of the object"
   ]
  },
  {
   "cell_type": "code",
   "execution_count": null,
   "id": "151f1b52",
   "metadata": {},
   "outputs": [
    {
     "name": "stdout",
     "output_type": "stream",
     "text": [
      "Johnny\n"
     ]
    }
   ],
   "source": [
    "# Protected members are similar to private members, but they can be accessed\n",
    "# by subclasses. \n",
    "# In Python, protected members are indicated by a single underscore prefix.\n",
    "# This is a convention and not enforced by the language.\n",
    "\n",
    "class Person:\n",
    "    def __init__(self, name, age, gender):\n",
    "        self._name = name # protected attribute\n",
    "        self._age = age # protected attribute\n",
    "        self.gender = gender # public attribute\n",
    "\n",
    "class Employee(Person):\n",
    "    def __init__(self, name, age, gender):\n",
    "        super().__init__(name, age, gender)\n",
    "\n",
    "employee = Employee(\"Johnny\", 36, \"Male\")\n",
    "print(employee._name)  # Output: Johnny"
   ]
  },
  {
   "cell_type": "code",
   "execution_count": 2,
   "id": "629a40fc",
   "metadata": {},
   "outputs": [
    {
     "name": "stdout",
     "output_type": "stream",
     "text": [
      "30\n"
     ]
    }
   ],
   "source": [
    "# Encapsulation with getter and setter methods\n",
    "class Person:\n",
    "    def __init__(self, name, age):\n",
    "        self.__name = name # private attribute\n",
    "        self.__age = age # private attribute\n",
    "    ## getter method\n",
    "    def get_name(self):\n",
    "        return self.__name\n",
    "    ## setter method\n",
    "    def set_name(self, name):\n",
    "        self.__name = name\n",
    "\n",
    "    # setting the age using setter method conditionally\n",
    "    def set_age(self, age):\n",
    "        if age < 0:\n",
    "            print(\"Age cannot be negative\")\n",
    "        else:\n",
    "            self.__age = age\n",
    "        \n",
    "    def get_age(self):\n",
    "        return self.__age\n",
    "    \n",
    "person = Person(\"John\", 30)\n",
    "print(person.get_age())  # Output: 30"
   ]
  },
  {
   "cell_type": "code",
   "execution_count": 3,
   "id": "31a2ac48",
   "metadata": {},
   "outputs": [
    {
     "name": "stdout",
     "output_type": "stream",
     "text": [
      "John\n",
      "Johnny\n"
     ]
    }
   ],
   "source": [
    "# Access and modify the private attribute using getter and setter methods\n",
    "print(person.get_name())  # Output: John\n",
    "person.set_name(\"Johnny\")\n",
    "print(person.get_name())  # Output: Johnny  "
   ]
  },
  {
   "cell_type": "code",
   "execution_count": null,
   "id": "9df8a053",
   "metadata": {},
   "outputs": [],
   "source": [
    "# Abrstraction only shows the necessary features of an object, hiding complex\n",
    "# features to reduce complexity."
   ]
  },
  {
   "cell_type": "code",
   "execution_count": 6,
   "id": "f13bd13f",
   "metadata": {},
   "outputs": [
    {
     "name": "stdout",
     "output_type": "stream",
     "text": [
      "Car engine started\n",
      "The vehicle is used for driving\n"
     ]
    }
   ],
   "source": [
    "from abc import ABC, abstractmethod\n",
    "\n",
    "# Abstract base class\n",
    "class Vehicle(ABC):\n",
    "    def drive(self):\n",
    "        print(\"The vehicle is used for driving\")\n",
    "    \n",
    "    @abstractmethod\n",
    "    def start_engine(self):\n",
    "        pass\n",
    "\n",
    "class Car(Vehicle):\n",
    "    def start_engine(self):\n",
    "        print(\"Car engine started\")\n",
    "\n",
    "def operate_vehicle(vehicle):\n",
    "    vehicle.start_engine()\n",
    "    vehicle.drive()\n",
    "\n",
    "car = Car()\n",
    "operate_vehicle(car)\n"
   ]
  },
  {
   "cell_type": "code",
   "execution_count": null,
   "id": "0127a99a",
   "metadata": {},
   "outputs": [],
   "source": []
  }
 ],
 "metadata": {
  "kernelspec": {
   "display_name": "newenv",
   "language": "python",
   "name": "newenv"
  },
  "language_info": {
   "codemirror_mode": {
    "name": "ipython",
    "version": 3
   },
   "file_extension": ".py",
   "mimetype": "text/x-python",
   "name": "python",
   "nbconvert_exporter": "python",
   "pygments_lexer": "ipython3",
   "version": "3.12.4"
  }
 },
 "nbformat": 4,
 "nbformat_minor": 5
}
