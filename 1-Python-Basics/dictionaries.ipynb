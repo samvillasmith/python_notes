{
 "cells": [
  {
   "cell_type": "code",
   "execution_count": 2,
   "metadata": {},
   "outputs": [
    {
     "name": "stdout",
     "output_type": "stream",
     "text": [
      "<class 'dict'>\n"
     ]
    }
   ],
   "source": [
    "# Creating dictionaries\n",
    "empty_dict = {}\n",
    "print(type(empty_dict))"
   ]
  },
  {
   "cell_type": "code",
   "execution_count": 3,
   "metadata": {},
   "outputs": [
    {
     "name": "stdout",
     "output_type": "stream",
     "text": [
      "<class 'dict'>\n"
     ]
    }
   ],
   "source": [
    "empty_dict = dict()\n",
    "print(type(empty_dict))"
   ]
  },
  {
   "cell_type": "code",
   "execution_count": 4,
   "metadata": {},
   "outputs": [
    {
     "name": "stdout",
     "output_type": "stream",
     "text": [
      "{'name': 'Sam', 'age': 36, 'score': 100}\n"
     ]
    }
   ],
   "source": [
    "student = {\"name\": \"Sam\", \"age\": 36, \"score\": 100}\n",
    "print(student)"
   ]
  },
  {
   "cell_type": "code",
   "execution_count": 8,
   "metadata": {},
   "outputs": [
    {
     "name": "stdout",
     "output_type": "stream",
     "text": [
      "{'name': 89, 'age': 36}\n"
     ]
    }
   ],
   "source": [
    "student = {\"name\": \"Sam\", \"age\": 36, \"name\": 89} # A single key is always used\n",
    "print(student)"
   ]
  },
  {
   "cell_type": "code",
   "execution_count": 10,
   "metadata": {},
   "outputs": [
    {
     "name": "stdout",
     "output_type": "stream",
     "text": [
      "A\n",
      "Sam\n"
     ]
    }
   ],
   "source": [
    "# Accessing dictionary elements\n",
    "student = {\"name\": \"Sam\", \"age\": 36, \"grade\": \"A\"}\n",
    "print(student['grade'])\n",
    "\n",
    "student = {\"name\": \"Sam\", \"age\": 36, \"grade\": \"A\"}\n",
    "print(student['name'])"
   ]
  },
  {
   "cell_type": "code",
   "execution_count": 12,
   "metadata": {},
   "outputs": [
    {
     "name": "stdout",
     "output_type": "stream",
     "text": [
      "A\n",
      "None\n",
      "Not available\n"
     ]
    }
   ],
   "source": [
    "# Get method\n",
    "print(student.get('grade'))\n",
    "print(student.get('car'))\n",
    "print(student.get('plane', 'Not available'))"
   ]
  },
  {
   "cell_type": "code",
   "execution_count": 13,
   "metadata": {},
   "outputs": [
    {
     "name": "stdout",
     "output_type": "stream",
     "text": [
      "{'name': 'Sam', 'age': 36, 'grade': 'A'}\n"
     ]
    }
   ],
   "source": [
    "# Dictionary elements are mutable and can be modified\n",
    "print(student)"
   ]
  },
  {
   "cell_type": "code",
   "execution_count": 14,
   "metadata": {},
   "outputs": [
    {
     "name": "stdout",
     "output_type": "stream",
     "text": [
      "{'name': 'Sam', 'age': 37, 'grade': 'A', 'address': 'USA'}\n"
     ]
    }
   ],
   "source": [
    "student[\"age\"] = 37\n",
    "student[\"address\"] = \"USA\"\n",
    "print(student)"
   ]
  },
  {
   "cell_type": "code",
   "execution_count": 15,
   "metadata": {},
   "outputs": [
    {
     "name": "stdout",
     "output_type": "stream",
     "text": [
      "{'name': 'Sam', 'age': 37, 'grade': 'A'}\n"
     ]
    }
   ],
   "source": [
    "# Deleting a value\n",
    "del student[\"address\"] # Will delete the key and value pair\n",
    "print(student)"
   ]
  },
  {
   "cell_type": "code",
   "execution_count": 16,
   "metadata": {},
   "outputs": [
    {
     "name": "stdout",
     "output_type": "stream",
     "text": [
      "dict_keys(['name', 'age', 'grade'])\n",
      "dict_values(['Sam', 37, 'A'])\n"
     ]
    }
   ],
   "source": [
    "# Dictionary methods that are common\n",
    "keys = student.keys()\n",
    "print(keys)\n",
    "values = student.values()\n",
    "print(values)"
   ]
  },
  {
   "cell_type": "code",
   "execution_count": 18,
   "metadata": {},
   "outputs": [
    {
     "name": "stdout",
     "output_type": "stream",
     "text": [
      "dict_items([('name', 'Sam'), ('age', 37), ('grade', 'A')])\n"
     ]
    }
   ],
   "source": [
    "# Get all key-value pairs\n",
    "items = student.items() # Get all key value pairs\n",
    "print(items)"
   ]
  },
  {
   "cell_type": "code",
   "execution_count": 22,
   "metadata": {},
   "outputs": [
    {
     "name": "stdout",
     "output_type": "stream",
     "text": [
      "{'name': 'Jesse', 'age': 37, 'grade': 'A'}\n",
      "{'name': 'Jesse', 'age': 37, 'grade': 'A'}\n"
     ]
    }
   ],
   "source": [
    "# Shallow copy\n",
    "student_copy = student # don't do this\n",
    "print(student)\n",
    "print(student_copy)"
   ]
  },
  {
   "cell_type": "code",
   "execution_count": 23,
   "metadata": {},
   "outputs": [
    {
     "name": "stdout",
     "output_type": "stream",
     "text": [
      "{'name': 'Jesse', 'age': 37, 'grade': 'A'}\n"
     ]
    }
   ],
   "source": [
    "student[\"name\"] = \"Jesse\"\n",
    "print(student_copy) # Don't do this, you need to create a new variable using shallow copying\n"
   ]
  },
  {
   "cell_type": "code",
   "execution_count": 26,
   "metadata": {},
   "outputs": [
    {
     "name": "stdout",
     "output_type": "stream",
     "text": [
      "{'name': 'Jesse', 'age': 37, 'grade': 'A'}\n",
      "{'name': 'Jesse', 'age': 37, 'grade': 'A'}\n"
     ]
    }
   ],
   "source": [
    "student_copy1 = student.copy() # shallow copy allocates different memory, do this instead\n",
    "print(student_copy1)\n",
    "print(student)"
   ]
  },
  {
   "cell_type": "code",
   "execution_count": 27,
   "metadata": {},
   "outputs": [
    {
     "name": "stdout",
     "output_type": "stream",
     "text": [
      "{'name': 'Yishai', 'age': 37, 'grade': 'A'}\n",
      "{'name': 'Jesse', 'age': 37, 'grade': 'A'}\n"
     ]
    }
   ],
   "source": [
    "student[\"name\"] = \"Yishai\"\n",
    "print(student)\n",
    "print(student_copy1)"
   ]
  },
  {
   "cell_type": "code",
   "execution_count": 28,
   "metadata": {},
   "outputs": [
    {
     "name": "stdout",
     "output_type": "stream",
     "text": [
      "name\n",
      "age\n",
      "grade\n"
     ]
    }
   ],
   "source": [
    "# Iterating over dictionaries\n",
    "# Use loops to iterate (keys, values, and items)\n",
    "\n",
    "# Iterating over keys\n",
    "for keys in student.keys():\n",
    "    print(keys)"
   ]
  },
  {
   "cell_type": "code",
   "execution_count": 29,
   "metadata": {},
   "outputs": [
    {
     "name": "stdout",
     "output_type": "stream",
     "text": [
      "Yishai\n",
      "37\n",
      "A\n"
     ]
    }
   ],
   "source": [
    "# Iterating over values\n",
    "for values in student.values():\n",
    "    print(values)"
   ]
  },
  {
   "cell_type": "code",
   "execution_count": 30,
   "metadata": {},
   "outputs": [
    {
     "name": "stdout",
     "output_type": "stream",
     "text": [
      "name Yishai\n",
      "age 37\n",
      "grade A\n"
     ]
    }
   ],
   "source": [
    "# Iterate over keys and values\n",
    "for keys, vals, in student.items():\n",
    "    print(keys, vals)"
   ]
  },
  {
   "cell_type": "code",
   "execution_count": 31,
   "metadata": {},
   "outputs": [
    {
     "name": "stdout",
     "output_type": "stream",
     "text": [
      "{'student1': {'name': 'Johnny', 'age': 26}, 'student2': {'name': 'Max', 'age': 18}}\n"
     ]
    }
   ],
   "source": [
    "# Nested dictionaries\n",
    "students = {\n",
    "    \"student1\":\n",
    "        {\n",
    "            \"name\": \"Johnny\",\n",
    "            \"age\": 26\n",
    "        },\n",
    "    \"student2\":\n",
    "        {\n",
    "            \"name\": \"Max\",\n",
    "            \"age\": 18\n",
    "        }\n",
    "}\n",
    "\n",
    "print(students)"
   ]
  },
  {
   "cell_type": "code",
   "execution_count": null,
   "metadata": {},
   "outputs": [
    {
     "name": "stdout",
     "output_type": "stream",
     "text": [
      "Johnny\n",
      "18\n"
     ]
    }
   ],
   "source": [
    "print(students[\"student1\"][\"name\"]) # This is how you access keys within keys\n",
    "print(students[\"student2\"][\"age\"])"
   ]
  },
  {
   "cell_type": "code",
   "execution_count": 37,
   "metadata": {},
   "outputs": [
    {
     "name": "stdout",
     "output_type": "stream",
     "text": [
      "student1 {'name': 'Johnny', 'age': 26}\n",
      "name Johnny\n",
      "age 26\n",
      "student2 {'name': 'Max', 'age': 18}\n",
      "name Max\n",
      "age 18\n"
     ]
    }
   ],
   "source": [
    "# Iterating over nested dictionaries\n",
    "for student_id, student_info in students.items():\n",
    "    print(student_id, student_info)\n",
    "    for key, value in student_info.items():\n",
    "        print(key, value)"
   ]
  },
  {
   "cell_type": "code",
   "execution_count": 38,
   "metadata": {},
   "outputs": [
    {
     "name": "stdout",
     "output_type": "stream",
     "text": [
      "{0: 0, 1: 1, 2: 4, 3: 9, 4: 16}\n"
     ]
    }
   ],
   "source": [
    "# Dictionary comprehension\n",
    "squares = {x:x**2 for x in range(5)}\n",
    "print(squares)"
   ]
  },
  {
   "cell_type": "code",
   "execution_count": 39,
   "metadata": {},
   "outputs": [
    {
     "name": "stdout",
     "output_type": "stream",
     "text": [
      "{0: 0, 2: 4, 4: 16, 6: 36, 8: 64}\n"
     ]
    }
   ],
   "source": [
    "evens = {x:x**2 for x in range(10) if x%2==0}\n",
    "print(evens)"
   ]
  },
  {
   "cell_type": "code",
   "execution_count": 45,
   "metadata": {},
   "outputs": [
    {
     "name": "stdout",
     "output_type": "stream",
     "text": [
      "{1: 3, 2: 3, 3: 2, 4: 5, 5: 3}\n"
     ]
    }
   ],
   "source": [
    "# Use a dictionary to count the frequency of elements in a list\n",
    "numbers = [1,1,1,2,2,2,3,3,4,4,4,4,4,5,5,5]\n",
    "\n",
    "# Initialize an empty dictionary\n",
    "frequency = {}\n",
    "\n",
    "# Count occurrences\n",
    "for number in numbers:\n",
    "    if number in frequency:\n",
    "        frequency[number] += 1\n",
    "    else:\n",
    "        frequency[number] = 1\n",
    "        \n",
    "print(frequency)"
   ]
  },
  {
   "cell_type": "code",
   "execution_count": 46,
   "metadata": {},
   "outputs": [
    {
     "name": "stdout",
     "output_type": "stream",
     "text": [
      "{'a': 1, 'b': 3, 'c': 4}\n"
     ]
    }
   ],
   "source": [
    "# Merge 2 dictionaries into one\n",
    "dict1 = {\"a\": 1, \"b\": 2}\n",
    "dict2 = {\"b\": 3, \"c\": 4}\n",
    "merged_dict = {**dict1, **dict2}\n",
    "print(merged_dict)"
   ]
  },
  {
   "cell_type": "code",
   "execution_count": 48,
   "metadata": {},
   "outputs": [
    {
     "name": "stdout",
     "output_type": "stream",
     "text": [
      "['buy groceries', 'clean house', 'pay bills', 'Schedule a meeting', 'More AI stuff']\n"
     ]
    }
   ],
   "source": [
    "# Manage a Todo list\n",
    "\n",
    "todo = [\"buy groceries\", \"clean house\", \"pay bills\"]\n",
    "\n",
    "todo.append(\"Schedule a meeting\")\n",
    "todo.append(\"More AI stuff\")\n",
    "print(todo)"
   ]
  },
  {
   "cell_type": "code",
   "execution_count": 49,
   "metadata": {},
   "outputs": [
    {
     "name": "stdout",
     "output_type": "stream",
     "text": [
      "['buy groceries', 'clean house', 'Schedule a meeting', 'More AI stuff']\n"
     ]
    }
   ],
   "source": [
    "todo.remove(\"pay bills\")\n",
    "print(todo)"
   ]
  },
  {
   "cell_type": "code",
   "execution_count": 50,
   "metadata": {},
   "outputs": [
    {
     "name": "stdout",
     "output_type": "stream",
     "text": [
      "lol broke\n"
     ]
    }
   ],
   "source": [
    "if \"pay bills\" in todo:\n",
    "    print(\"You still have to fork it over\")\n",
    "else:\n",
    "    print(\"lol broke\")"
   ]
  },
  {
   "cell_type": "code",
   "execution_count": 51,
   "metadata": {},
   "outputs": [
    {
     "name": "stdout",
     "output_type": "stream",
     "text": [
      "buy groceries\n",
      "clean house\n",
      "Schedule a meeting\n",
      "More AI stuff\n"
     ]
    }
   ],
   "source": [
    "for task in todo:\n",
    "    print(task)"
   ]
  },
  {
   "cell_type": "code",
   "execution_count": 55,
   "metadata": {},
   "outputs": [
    {
     "name": "stdout",
     "output_type": "stream",
     "text": [
      "85\n",
      "91\n",
      "100\n",
      "79\n",
      "81\n",
      "63\n",
      "Min grade is  63\n",
      "max grade is  100\n",
      "avg grade is  83.2\n"
     ]
    }
   ],
   "source": [
    "# Organizing student grades\n",
    "\n",
    "grades = [85, 91, 100, 79, 81, 63]\n",
    "avg_grade = sum(grades) / len(grades)\n",
    "min_grade = min(grades)\n",
    "max_grade = max(grades)\n",
    "\n",
    "for grade in grades:\n",
    "    print(grade)\n",
    "\n",
    "print(\"Min grade is \", min_grade)\n",
    "print(\"max grade is \", max_grade)\n",
    "print(\"avg grade is \", round(avg_grade, 1))"
   ]
  },
  {
   "cell_type": "code",
   "execution_count": null,
   "metadata": {},
   "outputs": [],
   "source": []
  }
 ],
 "metadata": {
  "kernelspec": {
   "display_name": "newenv",
   "language": "python",
   "name": "newenv"
  },
  "language_info": {
   "codemirror_mode": {
    "name": "ipython",
    "version": 3
   },
   "file_extension": ".py",
   "mimetype": "text/x-python",
   "name": "python",
   "nbconvert_exporter": "python",
   "pygments_lexer": "ipython3",
   "version": "3.12.4"
  }
 },
 "nbformat": 4,
 "nbformat_minor": 2
}
