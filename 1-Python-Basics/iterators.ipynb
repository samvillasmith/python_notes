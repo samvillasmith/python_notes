{
 "cells": [
  {
   "cell_type": "code",
   "execution_count": 2,
   "id": "5df84a27",
   "metadata": {},
   "outputs": [],
   "source": [
    "# Iterators allow for looping through a collection of items\n",
    "# without needing to know the details of how the collection \n",
    "# is implemented. This makes iterators a powerful tool in Python."
   ]
  },
  {
   "cell_type": "code",
   "execution_count": 3,
   "id": "4dde6365",
   "metadata": {},
   "outputs": [
    {
     "name": "stdout",
     "output_type": "stream",
     "text": [
      "1\n",
      "2\n",
      "3\n",
      "4\n",
      "5\n",
      "6\n",
      "7\n",
      "8\n",
      "9\n",
      "10\n"
     ]
    }
   ],
   "source": [
    "my_list = [1, 2, 3, 4, 5, 6, 7, 8, 9, 10]\n",
    "\n",
    "for i in my_list:\n",
    "    print(i)"
   ]
  },
  {
   "cell_type": "code",
   "execution_count": 4,
   "id": "5c06c33c",
   "metadata": {},
   "outputs": [
    {
     "data": {
      "text/plain": [
       "list"
      ]
     },
     "execution_count": 4,
     "metadata": {},
     "output_type": "execute_result"
    }
   ],
   "source": [
    "type(my_list)  # <class 'list'>"
   ]
  },
  {
   "cell_type": "code",
   "execution_count": 5,
   "id": "26f793aa",
   "metadata": {},
   "outputs": [
    {
     "name": "stdout",
     "output_type": "stream",
     "text": [
      "<class 'list_iterator'>\n"
     ]
    }
   ],
   "source": [
    "# Creating an iterator from a list\n",
    "iterator = iter(my_list)\n",
    "print(type(iterator))  # <class 'list_iterator'>"
   ]
  },
  {
   "cell_type": "code",
   "execution_count": 6,
   "id": "c65c2aba",
   "metadata": {},
   "outputs": [
    {
     "data": {
      "text/plain": [
       "<list_iterator at 0x1f5b1bdbc10>"
      ]
     },
     "execution_count": 6,
     "metadata": {},
     "output_type": "execute_result"
    }
   ],
   "source": [
    "iterator"
   ]
  },
  {
   "cell_type": "markdown",
   "id": "e24b61bc",
   "metadata": {},
   "source": [
    "### Iterate through all the elements in the list using next(), lazy loading means that the elements are not loaded into memory until they are needed"
   ]
  },
  {
   "cell_type": "code",
   "execution_count": 7,
   "id": "faa8fb33",
   "metadata": {},
   "outputs": [
    {
     "data": {
      "text/plain": [
       "1"
      ]
     },
     "execution_count": 7,
     "metadata": {},
     "output_type": "execute_result"
    }
   ],
   "source": [
    "next(iterator) "
   ]
  },
  {
   "cell_type": "code",
   "execution_count": 9,
   "id": "7eb47153",
   "metadata": {},
   "outputs": [],
   "source": [
    "iterator = iter(my_list)\n",
    "\n",
    "try:\n",
    "    next(iterator)\n",
    "except StopIteration:\n",
    "    print(\"There are no elements in the iterator\")"
   ]
  },
  {
   "cell_type": "code",
   "execution_count": 11,
   "id": "0a795644",
   "metadata": {},
   "outputs": [
    {
     "name": "stdout",
     "output_type": "stream",
     "text": [
      "h\n",
      "e\n",
      "l\n",
      "l\n",
      "o\n"
     ]
    },
    {
     "ename": "StopIteration",
     "evalue": "",
     "output_type": "error",
     "traceback": [
      "\u001b[1;31m---------------------------------------------------------------------------\u001b[0m",
      "\u001b[1;31mStopIteration\u001b[0m                             Traceback (most recent call last)",
      "Cell \u001b[1;32mIn[11], line 10\u001b[0m\n\u001b[0;32m      8\u001b[0m \u001b[38;5;28mprint\u001b[39m(\u001b[38;5;28mnext\u001b[39m(iterator))  \u001b[38;5;66;03m# l\u001b[39;00m\n\u001b[0;32m      9\u001b[0m \u001b[38;5;28mprint\u001b[39m(\u001b[38;5;28mnext\u001b[39m(iterator))  \u001b[38;5;66;03m# o\u001b[39;00m\n\u001b[1;32m---> 10\u001b[0m \u001b[38;5;28mprint\u001b[39m(\u001b[38;5;28mnext\u001b[39m(iterator))\n",
      "\u001b[1;31mStopIteration\u001b[0m: "
     ]
    }
   ],
   "source": [
    "# String iterator\n",
    "my_string = \"hello\"\n",
    "iterator = iter(my_string)\n",
    "\n",
    "print(next(iterator))  # h\n",
    "print(next(iterator))  # e      \n",
    "print(next(iterator))  # l\n",
    "print(next(iterator))  # l\n",
    "print(next(iterator))  # o\n",
    "print(next(iterator))  # Raises StopIteration error\n",
    "\n",
    "# The string iterator is exhausted "
   ]
  },
  {
   "cell_type": "code",
   "execution_count": null,
   "id": "0beb82cf",
   "metadata": {},
   "outputs": [],
   "source": []
  }
 ],
 "metadata": {
  "kernelspec": {
   "display_name": "newenv",
   "language": "python",
   "name": "newenv"
  },
  "language_info": {
   "codemirror_mode": {
    "name": "ipython",
    "version": 3
   },
   "file_extension": ".py",
   "mimetype": "text/x-python",
   "name": "python",
   "nbconvert_exporter": "python",
   "pygments_lexer": "ipython3",
   "version": "3.12.4"
  }
 },
 "nbformat": 4,
 "nbformat_minor": 5
}
