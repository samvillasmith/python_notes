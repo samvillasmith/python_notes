{
 "cells": [
  {
   "cell_type": "code",
   "execution_count": 1,
   "metadata": {},
   "outputs": [
    {
     "name": "stdout",
     "output_type": "stream",
     "text": [
      "even\n"
     ]
    }
   ],
   "source": [
    "# Function to check if a number is even or odd \n",
    "\n",
    "num = 22\n",
    "\n",
    "if num % 2==0:\n",
    "    print(\"even\")\n",
    "else:\n",
    "    print(\"odd\")"
   ]
  },
  {
   "cell_type": "code",
   "execution_count": 2,
   "metadata": {},
   "outputs": [
    {
     "name": "stdout",
     "output_type": "stream",
     "text": [
      "odd\n"
     ]
    }
   ],
   "source": [
    "def even_or_odd(param):\n",
    "    \"\"\"This function determines if even or odd\"\"\"\n",
    "    if param % 2==0:\n",
    "        print(\"even\")\n",
    "    else:\n",
    "        print(\"odd\")\n",
    "\n",
    "even_or_odd(17)"
   ]
  },
  {
   "cell_type": "code",
   "execution_count": 3,
   "metadata": {},
   "outputs": [
    {
     "name": "stdout",
     "output_type": "stream",
     "text": [
      "10\n"
     ]
    }
   ],
   "source": [
    "# Multiple params\n",
    "\n",
    "def add(a, b):\n",
    "    return a + b\n",
    "\n",
    "print(add(1, 9))"
   ]
  },
  {
   "cell_type": "code",
   "execution_count": 5,
   "metadata": {},
   "outputs": [
    {
     "name": "stdout",
     "output_type": "stream",
     "text": [
      "Hello World!\n"
     ]
    }
   ],
   "source": [
    "# Default params\n",
    "def greet(param = \"World\"):\n",
    "    print(f\"Hello {param}!\")\n",
    "\n",
    "greet()"
   ]
  },
  {
   "cell_type": "code",
   "execution_count": 7,
   "metadata": {},
   "outputs": [
    {
     "name": "stdout",
     "output_type": "stream",
     "text": [
      "1\n",
      "2\n",
      "3\n",
      "4\n",
      "5\n",
      "6\n",
      "7\n",
      "Sam\n"
     ]
    }
   ],
   "source": [
    "# Variable length arguments, positional and keyword arguments are referenced by *parameter\n",
    "\n",
    "def print_numbers(*params):\n",
    "    for number in params:\n",
    "        print(number)\n",
    "\n",
    "print_numbers(1,2,3,4,5,6,7,\"Sam\")"
   ]
  },
  {
   "cell_type": "code",
   "execution_count": 8,
   "metadata": {},
   "outputs": [
    {
     "name": "stdout",
     "output_type": "stream",
     "text": [
      "1\n",
      "1\n",
      "2\n",
      "3\n",
      "4\n",
      "5\n",
      "6\n",
      "7\n",
      "8\n",
      "9\n"
     ]
    }
   ],
   "source": [
    "def print_many(*args):\n",
    "    for number in args:\n",
    "        print(number)\n",
    "\n",
    "print_many(1,1,2,3,4,5,6,7,8,9)"
   ]
  },
  {
   "cell_type": "code",
   "execution_count": 9,
   "metadata": {},
   "outputs": [
    {
     "name": "stdout",
     "output_type": "stream",
     "text": [
      "name: Sam\n",
      "age: 36\n",
      "country: USA\n"
     ]
    }
   ],
   "source": [
    "# Kwargs will be in key-value pair format\n",
    "\n",
    "def print_details(**kwargs): \n",
    "    for key, val in kwargs.items():\n",
    "        print(f\"{key}: {val}\")\n",
    "\n",
    "print_details(name=\"Sam\", age=36, country=\"USA\")"
   ]
  },
  {
   "cell_type": "code",
   "execution_count": 10,
   "metadata": {},
   "outputs": [
    {
     "name": "stdout",
     "output_type": "stream",
     "text": [
      "this is the val in args: 1\n",
      "this is the val in args: 2\n",
      "this is the val in args: 3\n",
      "this is the val in args: 4\n",
      "this is the val in args: 5\n",
      "this is the val in args: Pancakes\n",
      "name: Sam\n",
      "age: 36\n",
      "country: USA\n"
     ]
    }
   ],
   "source": [
    "def print_details(*args, **kwargs): \n",
    "    for val in args:\n",
    "        print(f\"this is the val in args: {val}\")\n",
    "    for key, val in kwargs.items():\n",
    "        print(f\"{key}: {val}\")\n",
    "\n",
    "print_details(1,2,3,4,5, \"Pancakes\", name=\"Sam\", age=36, country=\"USA\")"
   ]
  },
  {
   "cell_type": "code",
   "execution_count": 12,
   "metadata": {},
   "outputs": [
    {
     "name": "stdout",
     "output_type": "stream",
     "text": [
      "15\n"
     ]
    }
   ],
   "source": [
    "# Return\n",
    "\n",
    "def mutliply(a, b):\n",
    "    return a * b\n",
    "\n",
    "print(mutliply(5, 3))"
   ]
  },
  {
   "cell_type": "code",
   "execution_count": 16,
   "metadata": {},
   "outputs": [
    {
     "name": "stdout",
     "output_type": "stream",
     "text": [
      "5\n"
     ]
    },
    {
     "data": {
      "text/plain": [
       "21"
      ]
     },
     "execution_count": 16,
     "metadata": {},
     "output_type": "execute_result"
    }
   ],
   "source": [
    "#Lambda functions in Python\n",
    "# Syntax lambda arguments : expression\n",
    "\n",
    "def addition(a, b):\n",
    "    return a + b\n",
    "\n",
    "print(addition(2, 3))\n",
    "\n",
    "# Rewritten as lambda (anonymous) function\n",
    "addition = lambda a, b : a + b\n",
    "addition(7, 14)\n"
   ]
  },
  {
   "cell_type": "code",
   "execution_count": 17,
   "metadata": {},
   "outputs": [
    {
     "data": {
      "text/plain": [
       "True"
      ]
     },
     "execution_count": 17,
     "metadata": {},
     "output_type": "execute_result"
    }
   ],
   "source": [
    "is_even = lambda a : a%2 == 0\n",
    "is_even(8)"
   ]
  },
  {
   "cell_type": "code",
   "execution_count": 18,
   "metadata": {},
   "outputs": [
    {
     "name": "stdout",
     "output_type": "stream",
     "text": [
      "22\n"
     ]
    }
   ],
   "source": [
    "addition2 = lambda x, y, z : x + y + z\n",
    "print(addition2(1, 4, 17))"
   ]
  },
  {
   "cell_type": "code",
   "execution_count": 21,
   "metadata": {},
   "outputs": [
    {
     "data": {
      "text/plain": [
       "[1, 4, 9, 16, 25, 36, 49]"
      ]
     },
     "execution_count": 21,
     "metadata": {},
     "output_type": "execute_result"
    }
   ],
   "source": [
    "# Map preview - map applies a function to all items in a list\n",
    "\n",
    "numbers = [1, 2, 3, 4, 5, 6, 7]\n",
    "\n",
    "list(map(lambda x : x**2, numbers))"
   ]
  },
  {
   "cell_type": "code",
   "execution_count": null,
   "metadata": {},
   "outputs": [],
   "source": []
  }
 ],
 "metadata": {
  "kernelspec": {
   "display_name": "newenv",
   "language": "python",
   "name": "newenv"
  },
  "language_info": {
   "codemirror_mode": {
    "name": "ipython",
    "version": 3
   },
   "file_extension": ".py",
   "mimetype": "text/x-python",
   "name": "python",
   "nbconvert_exporter": "python",
   "pygments_lexer": "ipython3",
   "version": "3.12.4"
  }
 },
 "nbformat": 4,
 "nbformat_minor": 2
}
