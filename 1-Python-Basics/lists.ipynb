{
 "cells": [
  {
   "cell_type": "code",
   "execution_count": 1,
   "metadata": {},
   "outputs": [
    {
     "name": "stdout",
     "output_type": "stream",
     "text": [
      "Don't forget to pay bills\n",
      "Todo list remaining\n",
      "Buy groceries\n",
      "Pay bills\n",
      "Go for a run\n",
      "Gym\n"
     ]
    }
   ],
   "source": [
    "# Managing a todo list\n",
    "\n",
    "todo_list = [\"Buy groceries\", \"Clean house\", \"Pay bills\"]\n",
    "\n",
    "#Adding a tast \n",
    "todo_list.append(\"Go for a run\")\n",
    "todo_list.append(\"Gym\")\n",
    "\n",
    "# Remove an item from the list\n",
    "todo_list.remove(\"Clean house\")\n",
    "\n",
    "#Check if a task is in the list\n",
    "if \"Pay bills\" in todo_list:\n",
    "    print(\"Don't forget to pay bills\")\n",
    "print(\"Todo list remaining\")\n",
    "for task in todo_list:\n",
    "    print(f\"{task}\")"
   ]
  },
  {
   "cell_type": "code",
   "execution_count": 2,
   "metadata": {},
   "outputs": [
    {
     "name": "stdout",
     "output_type": "stream",
     "text": [
      "Average grade:  88.83\n",
      "lowest grade: 76\n",
      "highest grade: 100\n"
     ]
    }
   ],
   "source": [
    "grades = [95, 81, 76, 99, 82]\n",
    "grades.append(100)\n",
    "average_grade = sum(grades) / len(grades)\n",
    "print(f\"Average grade: {average_grade: .2f}\")\n",
    "\n",
    "highest_grade = max(grades)\n",
    "lowest_grade = min(grades)\n",
    "\n",
    "print(f\"lowest grade: {lowest_grade}\")\n",
    "print(f\"highest grade: {highest_grade}\")"
   ]
  },
  {
   "cell_type": "code",
   "execution_count": 9,
   "metadata": {},
   "outputs": [
    {
     "name": "stdout",
     "output_type": "stream",
     "text": [
      "['apples', 'bananas', 'grapes', 'napples']\n",
      "grapes are in stock\n"
     ]
    }
   ],
   "source": [
    "# Managing an inventory\n",
    "inventory = [\"apples\", \"bananas\", \"oranges\", \"grapes\"]\n",
    "inventory.append(\"napples\")\n",
    "inventory.remove(\"oranges\")\n",
    "\n",
    "in_stock = []\n",
    "\n",
    "#Check to see if an item is in stock\n",
    "for fruit in inventory:\n",
    "    in_stock.append(fruit)\n",
    "\n",
    "print(in_stock)\n",
    "\n",
    "if \"grapes\" in in_stock:\n",
    "    print(\"grapes are in stock\")\n",
    "else:\n",
    "    print(f\"No grapes are in stock, but we have {', '.join(in_stock)}, and many other products\")"
   ]
  },
  {
   "cell_type": "code",
   "execution_count": 15,
   "metadata": {},
   "outputs": [
    {
     "name": "stdout",
     "output_type": "stream",
     "text": [
      "Positive feedback count: 3\n",
      "User feedback: \n",
      "Great service!\n",
      "Excellent!\n",
      "Very satisfied\n",
      "Could be better\n",
      "Excellent experience\n",
      "Wtf was this!? Awful\n"
     ]
    }
   ],
   "source": [
    "# Collecting user feedback\n",
    "feedback = [\"Great service!\", \"Excellent!\", \"Very satisfied\", \"Could be better\", \"Excellent experience\"]\n",
    "\n",
    "#new feedback\n",
    "feedback.append(\"Wtf was this!? Awful\")\n",
    "\n",
    "feedback_count = sum(1 for comment in feedback if \"great\" in comment.lower() or \"excellent\" in comment.lower())\n",
    "print(f\"Positive feedback count: {feedback_count}\")\n",
    "\n",
    "print(\"User feedback: \")\n",
    "for comment in feedback:\n",
    "    print(comment)"
   ]
  },
  {
   "cell_type": "code",
   "execution_count": 1,
   "metadata": {},
   "outputs": [
    {
     "name": "stdout",
     "output_type": "stream",
     "text": [
      "['apples', 'napples', 'bananas', 'oranges', 'grapes']\n"
     ]
    }
   ],
   "source": [
    "fruits = [\"apples\", \"bananas\", \"oranges\", \"grapes\"]\n",
    "fruits.insert(1, \"napples\")\n",
    "print(fruits)"
   ]
  },
  {
   "cell_type": "code",
   "execution_count": 2,
   "metadata": {},
   "outputs": [
    {
     "name": "stdout",
     "output_type": "stream",
     "text": [
      "['apples', 'napples', 'oranges', 'grapes']\n"
     ]
    }
   ],
   "source": [
    "fruits.remove(\"bananas\")\n",
    "print(fruits)"
   ]
  },
  {
   "cell_type": "code",
   "execution_count": 3,
   "metadata": {},
   "outputs": [
    {
     "name": "stdout",
     "output_type": "stream",
     "text": [
      "grapes\n"
     ]
    }
   ],
   "source": [
    "# Remove and return the last item\n",
    "popped_fruit = fruits.pop()\n",
    "print(popped_fruit)"
   ]
  },
  {
   "cell_type": "code",
   "execution_count": 5,
   "metadata": {},
   "outputs": [
    {
     "name": "stdout",
     "output_type": "stream",
     "text": [
      "0\n"
     ]
    }
   ],
   "source": [
    "index = fruits.index(\"apples\")\n",
    "print(index)"
   ]
  },
  {
   "cell_type": "code",
   "execution_count": 6,
   "metadata": {},
   "outputs": [
    {
     "name": "stdout",
     "output_type": "stream",
     "text": [
      "1\n"
     ]
    }
   ],
   "source": [
    "fruits.insert(1, \"bananas\")\n",
    "print(fruits.count(\"bananas\"))"
   ]
  },
  {
   "cell_type": "code",
   "execution_count": 8,
   "metadata": {},
   "outputs": [
    {
     "name": "stdout",
     "output_type": "stream",
     "text": [
      "['apples', 'bananas', 'napples', 'oranges']\n"
     ]
    }
   ],
   "source": [
    "fruits.sort()\n",
    "print(fruits)"
   ]
  },
  {
   "cell_type": "code",
   "execution_count": 9,
   "metadata": {},
   "outputs": [
    {
     "name": "stdout",
     "output_type": "stream",
     "text": [
      "['oranges', 'napples', 'bananas', 'apples']\n"
     ]
    }
   ],
   "source": [
    "fruits.reverse()\n",
    "print(fruits)  "
   ]
  },
  {
   "cell_type": "code",
   "execution_count": 10,
   "metadata": {},
   "outputs": [
    {
     "name": "stdout",
     "output_type": "stream",
     "text": [
      "[]\n"
     ]
    }
   ],
   "source": [
    "fruits.clear()\n",
    "print(fruits)"
   ]
  },
  {
   "cell_type": "code",
   "execution_count": 12,
   "metadata": {},
   "outputs": [
    {
     "name": "stdout",
     "output_type": "stream",
     "text": [
      "[1, 2, 3]\n"
     ]
    }
   ],
   "source": [
    "# Slicing a list\n",
    "numers = [1, 2, 3, 4, 5, 6, 7, 8, 9, 10]\n",
    "first_three = numers[:3]\n",
    "print(first_three)"
   ]
  },
  {
   "cell_type": "code",
   "execution_count": 13,
   "metadata": {},
   "outputs": [
    {
     "name": "stdout",
     "output_type": "stream",
     "text": [
      "[1, 2, 3, 4, 5]\n"
     ]
    }
   ],
   "source": [
    "first_five = numers[:5]\n",
    "print(first_five)"
   ]
  },
  {
   "cell_type": "code",
   "execution_count": 14,
   "metadata": {},
   "outputs": [
    {
     "name": "stdout",
     "output_type": "stream",
     "text": [
      "[8, 9, 10]\n"
     ]
    }
   ],
   "source": [
    "last_three = numers[-3:]\n",
    "print(last_three)"
   ]
  },
  {
   "cell_type": "code",
   "execution_count": 15,
   "metadata": {},
   "outputs": [
    {
     "name": "stdout",
     "output_type": "stream",
     "text": [
      "[5, 6, 7, 8, 9, 10]\n"
     ]
    }
   ],
   "source": [
    "from_fifth_to_end = numers[4:]\n",
    "print(from_fifth_to_end)"
   ]
  },
  {
   "cell_type": "code",
   "execution_count": null,
   "metadata": {},
   "outputs": [
    {
     "name": "stdout",
     "output_type": "stream",
     "text": [
      "[1, 3, 5, 7, 9]\n",
      "[10, 8, 6, 4, 2]\n"
     ]
    }
   ],
   "source": [
    "# Double colon\n",
    "# The double colon with a step digit is used to skip items in the list\n",
    "every_other = numers[::2]\n",
    "print(every_other)\n",
    "\n",
    "every_other_reversed = numers[::-2]\n",
    "print(every_other_reversed)"
   ]
  },
  {
   "cell_type": "code",
   "execution_count": 19,
   "metadata": {},
   "outputs": [
    {
     "name": "stdout",
     "output_type": "stream",
     "text": [
      "[1, 2, 3, 4, 5, 6, 7, 8, 9, 10]\n"
     ]
    }
   ],
   "source": [
    "# Colon on its own is used to copy the list\n",
    "copy = numers[:]\n",
    "print(copy)"
   ]
  },
  {
   "cell_type": "code",
   "execution_count": 22,
   "metadata": {},
   "outputs": [
    {
     "name": "stdout",
     "output_type": "stream",
     "text": [
      "[1, 2, 3, 4, 5, 6, 7, 8, 9, 10]\n"
     ]
    }
   ],
   "source": [
    "# Double colon without a step digit is used to copy the list as well\n",
    "# This is the same as the previous example\n",
    "# However, the double colon means that the list is copied from the beginning to the end\n",
    "copy2 = numers[::]\n",
    "print(copy2)"
   ]
  },
  {
   "cell_type": "code",
   "execution_count": 2,
   "metadata": {},
   "outputs": [
    {
     "name": "stdout",
     "output_type": "stream",
     "text": [
      "apples\n",
      "bananas\n",
      "oranges\n",
      "grapes\n"
     ]
    }
   ],
   "source": [
    "# Iterating over a list \n",
    "\n",
    "fruits = [\"apples\", \"bananas\", \"oranges\", \"grapes\"]\n",
    "\n",
    "for fruit in fruits:\n",
    "    print(fruit)"
   ]
  },
  {
   "cell_type": "code",
   "execution_count": 3,
   "metadata": {},
   "outputs": [
    {
     "name": "stdout",
     "output_type": "stream",
     "text": [
      "1: apples\n",
      "2: bananas\n",
      "3: oranges\n",
      "4: grapes\n"
     ]
    }
   ],
   "source": [
    "for index, fruit in enumerate(fruits):\n",
    "    print(f\"{index + 1}: {fruit}\")"
   ]
  },
  {
   "cell_type": "code",
   "execution_count": 2,
   "metadata": {},
   "outputs": [
    {
     "name": "stdout",
     "output_type": "stream",
     "text": [
      "[0, 1, 4, 9, 16, 25, 36, 49, 64, 81]\n",
      "[0, 1, 4, 9, 16, 25, 36, 49, 64, 81]\n"
     ]
    }
   ],
   "source": [
    "# List comprehension\n",
    "\n",
    "# Traditional way\n",
    "lst = []\n",
    "\n",
    "for x in range(10):\n",
    "    lst.append(x ** 2)\n",
    "print(lst)\n",
    "\n",
    "# List comprehension\n",
    "lst = [x ** 2 for x in range(10)]\n",
    "print(lst)"
   ]
  },
  {
   "cell_type": "code",
   "execution_count": 4,
   "metadata": {},
   "outputs": [
    {
     "name": "stdout",
     "output_type": "stream",
     "text": [
      "[0, 4, 16, 36, 64]\n"
     ]
    }
   ],
   "source": [
    "# List comprehension with condition\n",
    "lst = [x ** 2 for x in range(10) if x % 2 == 0]\n",
    "print(lst)"
   ]
  },
  {
   "cell_type": "code",
   "execution_count": null,
   "metadata": {},
   "outputs": [
    {
     "name": "stdout",
     "output_type": "stream",
     "text": [
      "[0, 1, 4, 9, 16, 25, 36, 49, 64, 81]\n"
     ]
    }
   ],
   "source": [
    "square = [num**2 for num in range(10)]\n",
    "print(square)"
   ]
  },
  {
   "cell_type": "code",
   "execution_count": 6,
   "metadata": {},
   "outputs": [
    {
     "name": "stdout",
     "output_type": "stream",
     "text": [
      "[0, 2, 4, 6, 8]\n"
     ]
    }
   ],
   "source": [
    "lst2 = []\n",
    "for i in range(10):\n",
    "    if i%2 == 0:\n",
    "        lst2.append(i)\n",
    "print(lst2)"
   ]
  },
  {
   "cell_type": "code",
   "execution_count": 8,
   "metadata": {},
   "outputs": [
    {
     "name": "stdout",
     "output_type": "stream",
     "text": [
      "[0, 2, 4, 6, 8]\n"
     ]
    }
   ],
   "source": [
    "lst3 = [num for num in range(10) if num % 2 == 0]\n",
    "print(lst3)"
   ]
  },
  {
   "cell_type": "code",
   "execution_count": 9,
   "metadata": {},
   "outputs": [
    {
     "name": "stdout",
     "output_type": "stream",
     "text": [
      "[[1, 'a'], [1, 'b'], [1, 'c'], [1, 'd'], [2, 'a'], [2, 'b'], [2, 'c'], [2, 'd'], [3, 'a'], [3, 'b'], [3, 'c'], [3, 'd'], [4, 'a'], [4, 'b'], [4, 'c'], [4, 'd']]\n"
     ]
    }
   ],
   "source": [
    "# Nested list comprehension\n",
    "first_list = [1, 2, 3, 4]\n",
    "second_list = ['a', 'b', 'c', 'd']\n",
    "\n",
    "pair = [[i, j] for i in first_list for j in second_list]\n",
    "print(pair)"
   ]
  },
  {
   "cell_type": "code",
   "execution_count": 10,
   "metadata": {},
   "outputs": [
    {
     "name": "stdout",
     "output_type": "stream",
     "text": [
      "[5, 5, 6, 2, 7]\n"
     ]
    }
   ],
   "source": [
    "# List comprehension with function calls\n",
    "words = [\"hello\", \"world\", \"python\", \"is\", \"awesome\"]\n",
    "lengths = [len(word) for word in words]\n",
    "print(lengths)"
   ]
  },
  {
   "cell_type": "code",
   "execution_count": 11,
   "metadata": {},
   "outputs": [
    {
     "name": "stdout",
     "output_type": "stream",
     "text": [
      "['odd', 'even', 'odd', 'even', 'odd']\n"
     ]
    }
   ],
   "source": [
    "# Using the else block in list comprehension\n",
    "numbers = [1, 2, 3, 4, 5]\n",
    "result = [\"even\" if num % 2 == 0 else \"odd\" for num in numbers]\n",
    "print(result)"
   ]
  },
  {
   "cell_type": "code",
   "execution_count": null,
   "metadata": {},
   "outputs": [],
   "source": []
  }
 ],
 "metadata": {
  "kernelspec": {
   "display_name": "newenv",
   "language": "python",
   "name": "python3"
  },
  "language_info": {
   "codemirror_mode": {
    "name": "ipython",
    "version": 3
   },
   "file_extension": ".py",
   "mimetype": "text/x-python",
   "name": "python",
   "nbconvert_exporter": "python",
   "pygments_lexer": "ipython3",
   "version": "3.12.4"
  }
 },
 "nbformat": 4,
 "nbformat_minor": 2
}
