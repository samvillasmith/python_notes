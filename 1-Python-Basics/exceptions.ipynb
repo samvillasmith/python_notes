{
 "cells": [
  {
   "cell_type": "code",
   "execution_count": 5,
   "id": "b582dfae",
   "metadata": {},
   "outputs": [
    {
     "name": "stdout",
     "output_type": "stream",
     "text": [
      "the result is 1.1111111111111112\n"
     ]
    }
   ],
   "source": [
    "#try, except, else block\n",
    "try:\n",
    "    num = int(input(\"Enter a number\"))\n",
    "    result = 10 / num\n",
    "except ValueError:\n",
    "    print(\"Not a valid number\")\n",
    "except ZeroDivisionError:\n",
    "    print(\"Can't divide by 0\")\n",
    "except Exception as ex:\n",
    "    print(ex)\n",
    "else:\n",
    "    print(f\"the result is {result}\")"
   ]
  },
  {
   "cell_type": "code",
   "execution_count": 6,
   "id": "6c148524",
   "metadata": {},
   "outputs": [
    {
     "name": "stdout",
     "output_type": "stream",
     "text": [
      "the result is 1.4285714285714286\n",
      "Execution complete.\n"
     ]
    }
   ],
   "source": [
    "#try, except, else, finally\n",
    "try:\n",
    "    num = int(input(\"Enter a number\"))\n",
    "    result = 10 / num\n",
    "except ValueError:\n",
    "    print(\"Not a valid number\")\n",
    "except ZeroDivisionError:\n",
    "    print(\"Can't divide by 0\")\n",
    "except Exception as ex:\n",
    "    print(ex)\n",
    "else:\n",
    "    print(f\"the result is {result}\")\n",
    "finally:\n",
    "    print(\"Execution complete.\")"
   ]
  },
  {
   "cell_type": "code",
   "execution_count": 12,
   "id": "6dec8ac1",
   "metadata": {},
   "outputs": [
    {
     "name": "stdout",
     "output_type": "stream",
     "text": [
      "Hello World\n",
      "This is a new line BOI!\n",
      "file closed\n"
     ]
    }
   ],
   "source": [
    "try:\n",
    "    file = open(\"example.txt\", \"r\")\n",
    "    content = file.read()\n",
    "    print(content)\n",
    "except FileNotFoundError:\n",
    "    print(\"The file does not exist.\")\n",
    "except Exception as ex:\n",
    "    print(ex)\n",
    "finally:\n",
    "    if 'file' in locals() and not file.closed:\n",
    "        file.close()\n",
    "        print(\"file closed\")"
   ]
  },
  {
   "cell_type": "code",
   "execution_count": null,
   "id": "ffe9c843",
   "metadata": {},
   "outputs": [],
   "source": []
  }
 ],
 "metadata": {
  "kernelspec": {
   "display_name": "newenv",
   "language": "python",
   "name": "newenv"
  },
  "language_info": {
   "codemirror_mode": {
    "name": "ipython",
    "version": 3
   },
   "file_extension": ".py",
   "mimetype": "text/x-python",
   "name": "python",
   "nbconvert_exporter": "python",
   "pygments_lexer": "ipython3",
   "version": "3.12.4"
  }
 },
 "nbformat": 4,
 "nbformat_minor": 5
}
