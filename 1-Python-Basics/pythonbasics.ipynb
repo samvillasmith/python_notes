{
 "cells": [
  {
   "cell_type": "code",
   "execution_count": 1,
   "metadata": {},
   "outputs": [],
   "source": [
    "## Basic Python Syntax\n",
    "# Python is a high-level, interpreted, interactive and object-oriented \n",
    "# scripting language. Python is designed to be highly readable. \n",
    "# It uses English keywords frequently where as other languages use punctuation, \n",
    "# and it has fewer syntactical constructions than other languages."
   ]
  },
  {
   "cell_type": "code",
   "execution_count": 2,
   "metadata": {},
   "outputs": [
    {
     "data": {
      "text/plain": [
       "'\\nThis is a multi-line comment in Python\\n'"
      ]
     },
     "execution_count": 2,
     "metadata": {},
     "output_type": "execute_result"
    }
   ],
   "source": [
    "'''\n",
    "This is a multi-line comment in Python\n",
    "'''"
   ]
  },
  {
   "cell_type": "code",
   "execution_count": 3,
   "metadata": {},
   "outputs": [
    {
     "name": "stdout",
     "output_type": "stream",
     "text": [
      "Age is greater than 35. The age is:  36\n",
      "This is not part of the if block\n"
     ]
    }
   ],
   "source": [
    "# Case sensitivity and indentation\n",
    "# Python is case sensitive and indentation plays a crucial role in Python.\n",
    "# Indentation is used to define the block of code.\n",
    "\n",
    "age = 36\n",
    "if age > 35:\n",
    "    print(\"Age is greater than 35. The age is: \", age)\n",
    "print(\"This is not part of the if block\")"
   ]
  },
  {
   "cell_type": "code",
   "execution_count": 4,
   "metadata": {},
   "outputs": [
    {
     "name": "stdout",
     "output_type": "stream",
     "text": [
      "Total:  6\n"
     ]
    }
   ],
   "source": [
    "# Line continuation\n",
    "# Python allows the use of the line continuation character \n",
    "# (\\) to denote that the line should continue.\n",
    "\n",
    "total = 1 + \\\n",
    "        2 + \\\n",
    "        3\n",
    "print(\"Total: \", total)"
   ]
  },
  {
   "cell_type": "code",
   "execution_count": 5,
   "metadata": {},
   "outputs": [
    {
     "name": "stdout",
     "output_type": "stream",
     "text": [
      "foo bar baz\n"
     ]
    }
   ],
   "source": [
    "# Multiple statements on a single line\n",
    "# Python allows the use of semicolons to put multiple statements on a single line.\n",
    "\n",
    "x = 'foo'; y = 'bar'; z = 'baz'\n",
    "print(x, y, z)"
   ]
  },
  {
   "cell_type": "code",
   "execution_count": 6,
   "metadata": {},
   "outputs": [
    {
     "ename": "NameError",
     "evalue": "name 'b' is not defined",
     "output_type": "error",
     "traceback": [
      "\u001b[1;31m---------------------------------------------------------------------------\u001b[0m",
      "\u001b[1;31mNameError\u001b[0m                                 Traceback (most recent call last)",
      "Cell \u001b[1;32mIn[6], line 5\u001b[0m\n\u001b[0;32m      1\u001b[0m \u001b[38;5;66;03m# Name error\u001b[39;00m\n\u001b[0;32m      2\u001b[0m \u001b[38;5;66;03m# If you try to access a variable that has not been defined,\u001b[39;00m\n\u001b[0;32m      3\u001b[0m \u001b[38;5;66;03m# you will get a NameError.\u001b[39;00m\n\u001b[1;32m----> 5\u001b[0m a\u001b[38;5;241m=\u001b[39mb\n",
      "\u001b[1;31mNameError\u001b[0m: name 'b' is not defined"
     ]
    }
   ],
   "source": [
    "# Name error\n",
    "# If you try to access a variable that has not been defined,\n",
    "# you will get a NameError.\n",
    "\n",
    "a=b # This will raise a NameError"
   ]
  },
  {
   "cell_type": "code",
   "execution_count": null,
   "metadata": {},
   "outputs": [],
   "source": []
  },
  {
   "cell_type": "code",
   "execution_count": 7,
   "metadata": {},
   "outputs": [
    {
     "name": "stdout",
     "output_type": "stream",
     "text": [
      "True\n",
      "Still True\n",
      "Outside if block\n"
     ]
    }
   ],
   "source": [
    "# Code Examples of indentation\n",
    "if True:\n",
    "    print(\"True\")\n",
    "    if False:\n",
    "        print(\"False\")\n",
    "    print(\"Still True\")\n",
    "print(\"Outside if block\")\n"
   ]
  },
  {
   "cell_type": "code",
   "execution_count": 8,
   "metadata": {},
   "outputs": [],
   "source": [
    "# Data types\n",
    "# Python has five standard data types −\n",
    "# Numbers\n",
    "# String\n",
    "# List\n",
    "# Tuple\n",
    "# Dictionary"
   ]
  },
  {
   "cell_type": "code",
   "execution_count": 9,
   "metadata": {},
   "outputs": [],
   "source": [
    "num = 100\n",
    "name = \"John\"\n",
    "list = [1, 2, 3, 4, 5]\n",
    "tuple = (1, 2, 3, 4, 5)\n",
    "dict = {'name': 'John', 'age': 36}"
   ]
  },
  {
   "cell_type": "code",
   "execution_count": null,
   "metadata": {},
   "outputs": [],
   "source": [
    "# Common errors\n",
    "# IndentationError: expected an indented block\n",
    "# SyntaxError: invalid syntax\n",
    "# NameError: name 'x' is not defined\n",
    "# ZeroDivisionError: division by zero\n",
    "# TypeError: can only concatenate str (not \"int\") to str\n",
    "# ValueError: invalid literal for int() with base 10: 'x'\n",
    "# ImportError: No module named x\n",
    "# IndexError: list index out of range\n",
    "# KeyError: 'x'\n",
    "# AttributeError: 'x' object has no attribute 'y'\n",
    "# FileNotFoundError: [Errno 2] No such file or directory: 'x'\n",
    "\n",
    "# Python Keywords\n",
    "# The following list shows the Python keywords.\n",
    "# These are reserved words and you cannot use them as constant or variable or any other identifier names.\n",
    "\n",
    "# and, as, assert, break, class, continue, def, del, elif, else, except, exec, finally, for, from, global, if, import, in, is, lambda, not, or, pass, print, raise, return, try, while, with, yield"
   ]
  },
  {
   "cell_type": "code",
   "execution_count": 10,
   "metadata": {},
   "outputs": [],
   "source": [
    "# Basic operators\n",
    "# Python language supports the following types of operators.\n",
    "\n",
    "# Arithmetic operators\n",
    "# Comparison (Relational) operators\n",
    "# Assignment operators\n",
    "# Logical operators\n",
    "# Bitwise operators\n",
    "# Membership operators\n",
    "# Identity operators"
   ]
  },
  {
   "cell_type": "code",
   "execution_count": 15,
   "metadata": {},
   "outputs": [
    {
     "name": "stdout",
     "output_type": "stream",
     "text": [
      "3 2 6 2.0 1 8 2\n"
     ]
    }
   ],
   "source": [
    "# Arithmetic operators\n",
    "add = 1 + 2\n",
    "sub = 3 - 1\n",
    "mul = 2 * 3\n",
    "div = 4 / 2\n",
    "mod = 5 % 2\n",
    "exp = 2 ** 3\n",
    "floor_div = 5 // 2\n",
    "print(add, sub, mul, div, mod, exp, floor_div)"
   ]
  },
  {
   "cell_type": "code",
   "execution_count": 12,
   "metadata": {},
   "outputs": [],
   "source": [
    "# Comparison operators\n",
    "# These operators compare the values on either sides of them and \n",
    "# decide the relation among them."
   ]
  },
  {
   "cell_type": "code",
   "execution_count": 16,
   "metadata": {},
   "outputs": [
    {
     "name": "stdout",
     "output_type": "stream",
     "text": [
      "Addition:  3\n",
      "Comparison:  True True True True True True\n"
     ]
    }
   ],
   "source": [
    "compared = 1 == 1\n",
    "not_equal = 1 != 2\n",
    "greater = 2 > 1\n",
    "less = 1 < 2\n",
    "greater_equal = 2 >= 1\n",
    "less_equal = 1 <= 2\n",
    "\n",
    "print(\"Addition: \", add)\n",
    "print(\"Comparison: \", compared, not_equal, greater, less, greater_equal, less_equal)"
   ]
  },
  {
   "cell_type": "code",
   "execution_count": 17,
   "metadata": {},
   "outputs": [
    {
     "name": "stdout",
     "output_type": "stream",
     "text": [
      "Assignment:  3 -1 9\n"
     ]
    }
   ],
   "source": [
    "# Assignment operators\n",
    "# These operators are used to assign values to variables.\n",
    "\n",
    "a = 1\n",
    "b = 2\n",
    "c = 3\n",
    "a += b\n",
    "b -= c\n",
    "c *= a\n",
    "print(\"Assignment: \", a, b, c)"
   ]
  },
  {
   "cell_type": "code",
   "execution_count": 18,
   "metadata": {},
   "outputs": [
    {
     "name": "stdout",
     "output_type": "stream",
     "text": [
      "Logical:  False True False\n"
     ]
    }
   ],
   "source": [
    "# Logical operators\n",
    "# Logical operators are the and, or, not operators.\n",
    "\n",
    "a = True\n",
    "b = False\n",
    "and_op = a and b\n",
    "or_op = a or b\n",
    "not_op = not a\n",
    "print(\"Logical: \", and_op, or_op, not_op)"
   ]
  },
  {
   "cell_type": "code",
   "execution_count": 19,
   "metadata": {},
   "outputs": [
    {
     "name": "stdout",
     "output_type": "stream",
     "text": [
      "Bitwise:  12 61 49 -61 240 15\n"
     ]
    }
   ],
   "source": [
    "# Bitwise operators\n",
    "# Bitwise operators act on operands as if they were strings of binary digits.\n",
    "# They operate bit by bit, hence the name.\n",
    "\n",
    "a = 60\n",
    "b = 13\n",
    "bitwise_and = a & b\n",
    "bitwise_or = a | b\n",
    "bitwise_xor = a ^ b\n",
    "bitwise_not = ~a\n",
    "bitwise_left_shift = a << 2\n",
    "bitwise_right_shift = a >> 2\n",
    "\n",
    "print(\"Bitwise: \", bitwise_and, bitwise_or, bitwise_xor, bitwise_not, bitwise_left_shift, bitwise_right_shift)"
   ]
  },
  {
   "cell_type": "code",
   "execution_count": 20,
   "metadata": {},
   "outputs": [
    {
     "name": "stdout",
     "output_type": "stream",
     "text": [
      "Membership:  True\n",
      "Membership:  True\n"
     ]
    }
   ],
   "source": [
    "# Membership operators\n",
    "# Membership operators are used to test if a sequence is presented in an object.\n",
    "\n",
    "list = [1, 2, 3, 4, 5]\n",
    "print(\"Membership: \", 1 in list)\n",
    "print(\"Membership: \", 6 not in list)"
   ]
  },
  {
   "cell_type": "code",
   "execution_count": 21,
   "metadata": {},
   "outputs": [
    {
     "name": "stdout",
     "output_type": "stream",
     "text": [
      "Identity:  True\n"
     ]
    }
   ],
   "source": [
    "# Identity operators\n",
    "# Identity operators compare the memory locations of two objects.\n",
    "\n",
    "a = 20\n",
    "b = 20\n",
    "print(\"Identity: \", a is b)"
   ]
  },
  {
   "cell_type": "code",
   "execution_count": 1,
   "metadata": {},
   "outputs": [
    {
     "name": "stdout",
     "output_type": "stream",
     "text": [
      "b is greater than a\n",
      "leave that silver chrimson black\n"
     ]
    }
   ],
   "source": [
    "# if else statement\n",
    "\n",
    "a = 10\n",
    "b = 20\n",
    "\n",
    "if a > b:\n",
    "    print(\"a is greater than b\")\n",
    "else:\n",
    "    print(\"b is greater than a\")\n",
    "\n",
    "\n",
    "color = 'silver'\n",
    "\n",
    "if color == 'gold':\n",
    "    print('the color is gold')\n",
    "elif color == 'silver':\n",
    "    print('leave that silver chrimson black')\n",
    "else:\n",
    "    print('neither silver nor gold')"
   ]
  },
  {
   "cell_type": "code",
   "execution_count": 2,
   "metadata": {},
   "outputs": [
    {
     "name": "stdout",
     "output_type": "stream",
     "text": [
      "Not a leap year\n"
     ]
    }
   ],
   "source": [
    "# Calculate a leap year\n",
    "\n",
    "year = int(input(\"Enter the year\"))\n",
    "\n",
    "if year%4==0:\n",
    "    if year%100==0:\n",
    "        print('This year is a leap year')\n",
    "    else:\n",
    "        print('Not a leap year')"
   ]
  },
  {
   "cell_type": "code",
   "execution_count": 5,
   "metadata": {},
   "outputs": [
    {
     "name": "stdout",
     "output_type": "stream",
     "text": [
      "36\n"
     ]
    }
   ],
   "source": [
    "# Simple calculator\n",
    "\n",
    "input_number1 = int(input(\"Enter a number\"))\n",
    "input_op = input(\"Enter a symbol like '+-*/'\")\n",
    "input_number2 = int(input(\"Enter another number\"))\n",
    "\n",
    "if input_op == '+':\n",
    "    print(input_number1 + input_number2)\n",
    "elif input_op == '-':\n",
    "    print(input_number1 - input_number2)\n",
    "elif input_op == '*':\n",
    "    print(input_number1 * input_number2)\n",
    "elif input_op == '/':\n",
    "    print(input_number1 / input_number2)\n",
    "else:\n",
    "    print(\"Invalid operator\")\n"
   ]
  },
  {
   "cell_type": "code",
   "execution_count": 7,
   "metadata": {},
   "outputs": [
    {
     "name": "stdout",
     "output_type": "stream",
     "text": [
      "1\n",
      "2\n",
      "3\n",
      "4\n",
      "5\n",
      "6\n",
      "7\n",
      "8\n",
      "9\n"
     ]
    }
   ],
   "source": [
    "# Loops\n",
    "# Python programming language provides the following types of loops \n",
    "# to handle looping requirements.\n",
    "\n",
    "# for loop\n",
    "\n",
    "#Range will generate a sequence of numbers from 1 to 9 because the last number is exclusive\n",
    "\n",
    "for i in range(1, 10):\n",
    "    print(i)"
   ]
  },
  {
   "cell_type": "code",
   "execution_count": 8,
   "metadata": {},
   "outputs": [
    {
     "name": "stdout",
     "output_type": "stream",
     "text": [
      "1\n",
      "3\n",
      "5\n",
      "7\n",
      "9\n"
     ]
    }
   ],
   "source": [
    "# You can also use the step parameter in the range function\n",
    "\n",
    "for i in range(1, 10, 2):\n",
    "    print(i)\n",
    "    "
   ]
  },
  {
   "cell_type": "code",
   "execution_count": 9,
   "metadata": {},
   "outputs": [
    {
     "name": "stdout",
     "output_type": "stream",
     "text": [
      "10\n",
      "9\n",
      "8\n",
      "7\n",
      "6\n",
      "5\n",
      "4\n",
      "3\n",
      "2\n"
     ]
    }
   ],
   "source": [
    "# Reversing a for loop is also possible\n",
    "\n",
    "for i in range(10, 1, -1):\n",
    "    print(i)"
   ]
  },
  {
   "cell_type": "code",
   "execution_count": 10,
   "metadata": {},
   "outputs": [
    {
     "name": "stdout",
     "output_type": "stream",
     "text": [
      "I\n",
      " \n",
      "w\n",
      "i\n",
      "l\n",
      "l\n",
      " \n",
      "b\n",
      "e\n",
      "c\n",
      "o\n",
      "m\n",
      "e\n",
      " \n",
      "a\n",
      " \n",
      "d\n",
      "a\n",
      "t\n",
      "a\n",
      " \n",
      "s\n",
      "c\n",
      "i\n",
      "e\n",
      "n\n",
      "t\n",
      "i\n",
      "s\n",
      "t\n",
      " \n",
      "i\n",
      "n\n",
      " \n",
      "l\n",
      "e\n",
      "s\n",
      "s\n",
      " \n",
      "t\n",
      "h\n",
      "a\n",
      "n\n",
      " \n",
      "t\n",
      "w\n",
      "o\n",
      " \n",
      "m\n",
      "o\n",
      "n\n",
      "t\n",
      "h\n",
      "s\n"
     ]
    }
   ],
   "source": [
    "str = \"I will become a data scientist in less than two months\"\n",
    "for i in str:\n",
    "    print(i)"
   ]
  },
  {
   "cell_type": "code",
   "execution_count": 12,
   "metadata": {},
   "outputs": [
    {
     "name": "stdout",
     "output_type": "stream",
     "text": [
      "0\n",
      "1\n",
      "2\n",
      "3\n",
      "4\n",
      "5\n",
      "6\n",
      "7\n",
      "8\n",
      "9\n"
     ]
    }
   ],
   "source": [
    "# While loop\n",
    "\n",
    "count = 0\n",
    "while count < 10:\n",
    "    print(count)\n",
    "    count += 1"
   ]
  },
  {
   "cell_type": "code",
   "execution_count": 14,
   "metadata": {},
   "outputs": [
    {
     "name": "stdout",
     "output_type": "stream",
     "text": [
      "0\n"
     ]
    }
   ],
   "source": [
    "count = 0\n",
    "while count %2==0:\n",
    "    print(count)\n",
    "    count += 1"
   ]
  },
  {
   "cell_type": "code",
   "execution_count": 15,
   "metadata": {},
   "outputs": [
    {
     "name": "stdout",
     "output_type": "stream",
     "text": [
      "1\n",
      "2\n",
      "3\n",
      "4\n"
     ]
    }
   ],
   "source": [
    "# Loop control statements\n",
    "\n",
    "# Loop control statements change the execution from its normal sequence.\n",
    "# When the execution leaves a scope, all automatic objects \n",
    "# that were created in that scope are destroyed.\n",
    "\n",
    "# The break statement\n",
    "# The break statement terminates the loop containing it.\n",
    "\n",
    "for i in range(1, 10):\n",
    "    if i == 5:\n",
    "        break\n",
    "    print(i)"
   ]
  },
  {
   "cell_type": "code",
   "execution_count": 16,
   "metadata": {},
   "outputs": [
    {
     "name": "stdout",
     "output_type": "stream",
     "text": [
      "1\n",
      "2\n",
      "3\n",
      "4\n",
      "6\n",
      "7\n",
      "8\n",
      "9\n"
     ]
    }
   ],
   "source": [
    "# Continue statement\n",
    "# The continue statement is used to skip the rest of the code inside a loop for the current iteration only.\n",
    "\n",
    "for i in range(1, 10):\n",
    "    if i == 5:\n",
    "        continue\n",
    "    print(i)"
   ]
  },
  {
   "cell_type": "code",
   "execution_count": 17,
   "metadata": {},
   "outputs": [
    {
     "name": "stdout",
     "output_type": "stream",
     "text": [
      "1\n",
      "2\n",
      "3\n",
      "4\n",
      "5\n",
      "6\n",
      "7\n",
      "8\n",
      "9\n"
     ]
    }
   ],
   "source": [
    "# Pass statement \n",
    "# The pass statement is used as a placeholder for future code.\n",
    "\n",
    "for i in range(1, 10):\n",
    "    if i == 5:\n",
    "        pass\n",
    "    print(i)"
   ]
  },
  {
   "cell_type": "code",
   "execution_count": 18,
   "metadata": {},
   "outputs": [
    {
     "name": "stdout",
     "output_type": "stream",
     "text": [
      "1 1\n",
      "1 2\n",
      "1 3\n",
      "1 4\n",
      "1 5\n",
      "1 6\n",
      "1 7\n",
      "1 8\n",
      "1 9\n",
      "2 1\n",
      "2 2\n",
      "2 3\n",
      "2 4\n",
      "2 5\n",
      "2 6\n",
      "2 7\n",
      "2 8\n",
      "2 9\n",
      "3 1\n",
      "3 2\n",
      "3 3\n",
      "3 4\n",
      "3 5\n",
      "3 6\n",
      "3 7\n",
      "3 8\n",
      "3 9\n",
      "4 1\n",
      "4 2\n",
      "4 3\n",
      "4 4\n",
      "4 5\n",
      "4 6\n",
      "4 7\n",
      "4 8\n",
      "4 9\n",
      "5 1\n",
      "5 2\n",
      "5 3\n",
      "5 4\n",
      "5 5\n",
      "5 6\n",
      "5 7\n",
      "5 8\n",
      "5 9\n",
      "6 1\n",
      "6 2\n",
      "6 3\n",
      "6 4\n",
      "6 5\n",
      "6 6\n",
      "6 7\n",
      "6 8\n",
      "6 9\n",
      "7 1\n",
      "7 2\n",
      "7 3\n",
      "7 4\n",
      "7 5\n",
      "7 6\n",
      "7 7\n",
      "7 8\n",
      "7 9\n",
      "8 1\n",
      "8 2\n",
      "8 3\n",
      "8 4\n",
      "8 5\n",
      "8 6\n",
      "8 7\n",
      "8 8\n",
      "8 9\n",
      "9 1\n",
      "9 2\n",
      "9 3\n",
      "9 4\n",
      "9 5\n",
      "9 6\n",
      "9 7\n",
      "9 8\n",
      "9 9\n"
     ]
    }
   ],
   "source": [
    "# Nested loops\n",
    "\n",
    "for i in range(1, 10):\n",
    "    for j in range(1, 10):\n",
    "        print(i, j)"
   ]
  },
  {
   "cell_type": "code",
   "execution_count": 22,
   "metadata": {},
   "outputs": [
    {
     "name": "stdout",
     "output_type": "stream",
     "text": [
      "45\n"
     ]
    }
   ],
   "source": [
    "# Calculate the sum of the first N natural numbers using a for loop and while loop\n",
    "\n",
    "n = int(input(\"Enter a number\"))\n",
    "sum = 0\n",
    "\n",
    "for i in range(1, n+1):\n",
    "    sum += i\n",
    "print(sum)"
   ]
  },
  {
   "cell_type": "code",
   "execution_count": 21,
   "metadata": {},
   "outputs": [
    {
     "name": "stdout",
     "output_type": "stream",
     "text": [
      "28\n"
     ]
    }
   ],
   "source": [
    "n = int(input(\"Enter a number\"))\n",
    "sum = 0\n",
    "i = 1\n",
    "while i <= n:\n",
    "    sum += i\n",
    "    i += 1\n",
    "\n",
    "print(sum)"
   ]
  },
  {
   "cell_type": "code",
   "execution_count": 23,
   "metadata": {},
   "outputs": [
    {
     "name": "stdout",
     "output_type": "stream",
     "text": [
      "2\n",
      "3\n",
      "5\n",
      "7\n",
      "11\n",
      "13\n",
      "17\n",
      "19\n",
      "23\n",
      "29\n",
      "31\n",
      "37\n",
      "41\n",
      "43\n",
      "47\n",
      "53\n",
      "59\n",
      "61\n",
      "67\n",
      "71\n",
      "73\n",
      "79\n",
      "83\n",
      "89\n",
      "97\n"
     ]
    }
   ],
   "source": [
    "# Display the prime numbers between 1 and 100\n",
    "\n",
    "for i in range(1, 101):\n",
    "    if i > 1:\n",
    "        for j in range(2, i):\n",
    "            if i % j == 0:\n",
    "                break\n",
    "        else:\n",
    "            print(i)"
   ]
  },
  {
   "cell_type": "code",
   "execution_count": null,
   "metadata": {},
   "outputs": [],
   "source": []
  }
 ],
 "metadata": {
  "kernelspec": {
   "display_name": "newenv",
   "language": "python",
   "name": "python3"
  },
  "language_info": {
   "codemirror_mode": {
    "name": "ipython",
    "version": 3
   },
   "file_extension": ".py",
   "mimetype": "text/x-python",
   "name": "python",
   "nbconvert_exporter": "python",
   "pygments_lexer": "ipython3",
   "version": "3.12.4"
  }
 },
 "nbformat": 4,
 "nbformat_minor": 2
}
