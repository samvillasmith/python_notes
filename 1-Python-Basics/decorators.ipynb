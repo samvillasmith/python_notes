{
 "cells": [
  {
   "cell_type": "markdown",
   "id": "dd08ee6d",
   "metadata": {},
   "source": [
    "## Decorators, Closures, and Function Copies"
   ]
  },
  {
   "cell_type": "code",
   "execution_count": null,
   "id": "96002895",
   "metadata": {},
   "outputs": [
    {
     "data": {
      "text/plain": [
       "'Welcome to the Python world!'"
      ]
     },
     "execution_count": 1,
     "metadata": {},
     "output_type": "execute_result"
    }
   ],
   "source": [
    "# Function copy\n",
    "# A function copy is a function that is used to copy the contents \n",
    "# of one file to another file.\n",
    "def welcome():\n",
    "    return \"Welcome to the Python world!\"\n",
    "\n",
    "welcome()"
   ]
  },
  {
   "cell_type": "code",
   "execution_count": 2,
   "id": "4846685b",
   "metadata": {},
   "outputs": [
    {
     "name": "stdout",
     "output_type": "stream",
     "text": [
      "Welcome to the Python world!\n"
     ]
    }
   ],
   "source": [
    "wel = welcome\n",
    "print(wel())  # Call the function using the new name"
   ]
  },
  {
   "cell_type": "code",
   "execution_count": 4,
   "id": "3ec7a00c",
   "metadata": {},
   "outputs": [],
   "source": [
    "del welcome # Delete the original function name"
   ]
  },
  {
   "cell_type": "code",
   "execution_count": 5,
   "id": "db350e3f",
   "metadata": {},
   "outputs": [
    {
     "data": {
      "text/plain": [
       "<function __main__.welcome()>"
      ]
     },
     "execution_count": 5,
     "metadata": {},
     "output_type": "execute_result"
    }
   ],
   "source": [
    "wel  "
   ]
  },
  {
   "cell_type": "code",
   "execution_count": 6,
   "id": "6916ad1c",
   "metadata": {},
   "outputs": [
    {
     "name": "stdout",
     "output_type": "stream",
     "text": [
      "Welcome to the Python world!\n"
     ]
    }
   ],
   "source": [
    "print(wel())  # Call the function using the new name again"
   ]
  },
  {
   "cell_type": "code",
   "execution_count": 15,
   "id": "ec0cb0fb",
   "metadata": {},
   "outputs": [],
   "source": [
    "# Closures \n",
    "\n",
    "# Function that returns a function\n",
    "\n",
    "def main_welcome(msg):\n",
    "    def sub_welcome():\n",
    "        print(\"Welcome to the advanced python course!\")\n",
    "        print(\"Please learn these concepts properly.\")\n",
    "        print(msg)\n",
    "    return sub_welcome()"
   ]
  },
  {
   "cell_type": "code",
   "execution_count": 16,
   "id": "6a427c41",
   "metadata": {},
   "outputs": [
    {
     "name": "stdout",
     "output_type": "stream",
     "text": [
      "Welcome to the advanced python course!\n",
      "Please learn these concepts properly.\n",
      "Howdy yall\n"
     ]
    }
   ],
   "source": [
    "main_welcome(\"Howdy yall\")  # Call the main function to get the sub function"
   ]
  },
  {
   "cell_type": "code",
   "execution_count": 24,
   "id": "311ac7b4",
   "metadata": {},
   "outputs": [],
   "source": [
    "def main_welcome(func, lst):\n",
    "    def sub_welcome():\n",
    "        print(\"Welcome to the advanced python course!\")\n",
    "        print(\"Please learn these concepts properly.\")\n",
    "        print(func(lst))\n",
    "    return sub_welcome()"
   ]
  },
  {
   "cell_type": "code",
   "execution_count": 25,
   "id": "06216a7f",
   "metadata": {},
   "outputs": [
    {
     "name": "stdout",
     "output_type": "stream",
     "text": [
      "Welcome to the advanced python course!\n",
      "Please learn these concepts properly.\n",
      "5\n"
     ]
    }
   ],
   "source": [
    "main_welcome(len, [1, 2, 3, 4, 5])  # Call the main function to get the sub function"
   ]
  },
  {
   "cell_type": "markdown",
   "id": "640d54ef",
   "metadata": {},
   "source": [
    "## Decorators \n",
    "### Decorators are functions that modify the behavior of other functions or methods. They are often used to add functionality to existing code in a clean and readable way."
   ]
  },
  {
   "cell_type": "code",
   "execution_count": 26,
   "id": "afca8cab",
   "metadata": {},
   "outputs": [],
   "source": [
    "def main_welcome(func):\n",
    "    def sub_welcome():\n",
    "        print(\"Welcome to the advanced python course!\")\n",
    "        print(\"Please learn these concepts properly.\")\n",
    "        func()\n",
    "    return sub_welcome()"
   ]
  },
  {
   "cell_type": "code",
   "execution_count": 27,
   "id": "01601458",
   "metadata": {},
   "outputs": [
    {
     "name": "stdout",
     "output_type": "stream",
     "text": [
      "This is a course on advanced python programming.\n",
      "We will cover many advanced topics in this course.\n"
     ]
    }
   ],
   "source": [
    "def course_introduction():\n",
    "    print(\"This is a course on advanced python programming.\")\n",
    "    print(\"We will cover many advanced topics in this course.\")\n",
    "\n",
    "course_introduction()"
   ]
  },
  {
   "cell_type": "code",
   "execution_count": 28,
   "id": "3f7b692f",
   "metadata": {},
   "outputs": [
    {
     "name": "stdout",
     "output_type": "stream",
     "text": [
      "Welcome to the advanced python course!\n",
      "Please learn these concepts properly.\n",
      "This is a course on advanced python programming.\n",
      "We will cover many advanced topics in this course.\n"
     ]
    }
   ],
   "source": [
    "main_welcome(course_introduction)  # Call the main function to get the sub function"
   ]
  },
  {
   "cell_type": "code",
   "execution_count": 29,
   "id": "0be6825b",
   "metadata": {},
   "outputs": [
    {
     "name": "stdout",
     "output_type": "stream",
     "text": [
      "Welcome to the advanced python course!\n",
      "Please learn these concepts properly.\n",
      "This is a course on advanced python programming.\n",
      "We will cover many advanced topics in this course.\n"
     ]
    }
   ],
   "source": [
    "@main_welcome\n",
    "def course_introduction():\n",
    "    print(\"This is a course on advanced python programming.\")\n",
    "    print(\"We will cover many advanced topics in this course.\")"
   ]
  },
  {
   "cell_type": "code",
   "execution_count": 30,
   "id": "4bca8f91",
   "metadata": {},
   "outputs": [],
   "source": [
    "def my_decorator(func):\n",
    "    def wrapper():\n",
    "        print(\"This is a decorator function.\")\n",
    "        func()\n",
    "        print(\"This is the end of the decorator function.\")\n",
    "    return wrapper"
   ]
  },
  {
   "cell_type": "code",
   "execution_count": 31,
   "id": "8f5ba27b",
   "metadata": {},
   "outputs": [
    {
     "name": "stdout",
     "output_type": "stream",
     "text": [
      "This is a decorator function.\n",
      "Hello, world!\n",
      "This is the end of the decorator function.\n"
     ]
    }
   ],
   "source": [
    "@my_decorator\n",
    "def say_hello():\n",
    "    print(\"Hello, world!\")\n",
    "\n",
    "say_hello()  # Call the decorated function"
   ]
  },
  {
   "cell_type": "code",
   "execution_count": 32,
   "id": "342dfb87",
   "metadata": {},
   "outputs": [],
   "source": [
    "# Decorators with arguments\n",
    "def repeat(n):\n",
    "    def decorator(func):\n",
    "        def wrapper(*args, **kwargs):\n",
    "            for _ in range(n):\n",
    "                func(*args, **kwargs)\n",
    "        return wrapper\n",
    "    return decorator"
   ]
  },
  {
   "cell_type": "code",
   "execution_count": 33,
   "id": "81ddbb81",
   "metadata": {},
   "outputs": [
    {
     "name": "stdout",
     "output_type": "stream",
     "text": [
      "Hello, world!\n",
      "Hello, world!\n",
      "Hello, world!\n"
     ]
    }
   ],
   "source": [
    "@repeat(3)\n",
    "def say_hello():\n",
    "    print(\"Hello, world!\")\n",
    "\n",
    "say_hello()  # Call the decorated function"
   ]
  },
  {
   "cell_type": "code",
   "execution_count": null,
   "id": "40a29350",
   "metadata": {},
   "outputs": [],
   "source": []
  },
  {
   "cell_type": "code",
   "execution_count": null,
   "id": "cd6c03eb",
   "metadata": {},
   "outputs": [],
   "source": []
  }
 ],
 "metadata": {
  "kernelspec": {
   "display_name": "newenv",
   "language": "python",
   "name": "newenv"
  },
  "language_info": {
   "codemirror_mode": {
    "name": "ipython",
    "version": 3
   },
   "file_extension": ".py",
   "mimetype": "text/x-python",
   "name": "python",
   "nbconvert_exporter": "python",
   "pygments_lexer": "ipython3",
   "version": "3.12.4"
  }
 },
 "nbformat": 4,
 "nbformat_minor": 5
}
