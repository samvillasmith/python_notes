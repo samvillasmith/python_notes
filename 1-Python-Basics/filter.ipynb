{
 "cells": [
  {
   "cell_type": "code",
   "execution_count": 2,
   "metadata": {},
   "outputs": [],
   "source": [
    "# Filter function\n",
    "\n",
    "# filter() constructs an iterator from elements of an iterable for which \n",
    "# a function returns true and is used to filter out items based on a condition"
   ]
  },
  {
   "cell_type": "code",
   "execution_count": 3,
   "metadata": {},
   "outputs": [],
   "source": [
    "def even(num):\n",
    "    if num %2==0:\n",
    "        return True"
   ]
  },
  {
   "cell_type": "code",
   "execution_count": 4,
   "metadata": {},
   "outputs": [
    {
     "data": {
      "text/plain": [
       "True"
      ]
     },
     "execution_count": 4,
     "metadata": {},
     "output_type": "execute_result"
    }
   ],
   "source": [
    "even(24)"
   ]
  },
  {
   "cell_type": "code",
   "execution_count": 6,
   "metadata": {},
   "outputs": [
    {
     "name": "stdout",
     "output_type": "stream",
     "text": [
      "[2, 4, 6, 8, 10, 12]\n"
     ]
    }
   ],
   "source": [
    "lst =[1,2,3,4,5,6,7,8,9,10,11,12]\n",
    "\n",
    "print(list(filter(even, lst)))"
   ]
  },
  {
   "cell_type": "code",
   "execution_count": 7,
   "metadata": {},
   "outputs": [
    {
     "name": "stdout",
     "output_type": "stream",
     "text": [
      "[2, 4, 6, 8, 10, 12]\n"
     ]
    }
   ],
   "source": [
    "# Filter with lambda\n",
    "\n",
    "print(list(filter(lambda x:x%2==0, lst)))"
   ]
  },
  {
   "cell_type": "code",
   "execution_count": null,
   "metadata": {},
   "outputs": [
    {
     "name": "stdout",
     "output_type": "stream",
     "text": [
      "[6, 7, 8, 9, 10, 11, 12]\n"
     ]
    }
   ],
   "source": [
    "greater_than_five = list(filter(lambda x:x>5, lst))\n",
    "print(greater_than_five)"
   ]
  },
  {
   "cell_type": "code",
   "execution_count": 19,
   "metadata": {},
   "outputs": [
    {
     "name": "stdout",
     "output_type": "stream",
     "text": [
      "[{'name': 'Willy', 'age': 42, 'education': 'PhD', 'qualified': True}]\n"
     ]
    }
   ],
   "source": [
    "# Filter to check if age is greater than 35 in dictionary\n",
    "\n",
    "people = [\n",
    "    {\n",
    "    \"name\": \"Sam\",\n",
    "    \"age\": 35,\n",
    "    \"education\": \"PhD\",\n",
    "    \"qualified\": True\n",
    "    },\n",
    "    {\n",
    "    \"name\": \"Max\",\n",
    "    \"age\": 18,\n",
    "    \"education\": \"High School\",\n",
    "    \"qualified\": False\n",
    "    },\n",
    "    {\n",
    "    \"name\": \"Chloe\",\n",
    "    \"age\": 20,\n",
    "    \"education\": \"High School\",\n",
    "    \"qualified\": False\n",
    "    },\n",
    "    {\n",
    "    \"name\": \"Willy\",\n",
    "    \"age\": 42,\n",
    "    \"education\": \"PhD\",\n",
    "    \"qualified\": True\n",
    "    },\n",
    "]\n",
    "\n",
    "is_over_35 = list(filter(lambda x:x['age'] > 35, people))\n",
    "print(is_over_35)"
   ]
  },
  {
   "cell_type": "code",
   "execution_count": 22,
   "metadata": {},
   "outputs": [
    {
     "name": "stdout",
     "output_type": "stream",
     "text": [
      "[{'name': 'Sam', 'age': 35, 'education': 'PhD', 'qualified': True}, {'name': 'Willy', 'age': 42, 'education': 'PhD', 'qualified': True}]\n"
     ]
    }
   ],
   "source": [
    "def age_over_25(person):\n",
    "    return person['age'] > 25\n",
    "\n",
    "is_over_25 = list(filter(age_over_25, people))\n",
    "\n",
    "print(is_over_25)"
   ]
  },
  {
   "cell_type": "code",
   "execution_count": null,
   "metadata": {},
   "outputs": [],
   "source": []
  }
 ],
 "metadata": {
  "kernelspec": {
   "display_name": "newenv",
   "language": "python",
   "name": "newenv"
  },
  "language_info": {
   "codemirror_mode": {
    "name": "ipython",
    "version": 3
   },
   "file_extension": ".py",
   "mimetype": "text/x-python",
   "name": "python",
   "nbconvert_exporter": "python",
   "pygments_lexer": "ipython3",
   "version": "3.12.4"
  }
 },
 "nbformat": 4,
 "nbformat_minor": 2
}
