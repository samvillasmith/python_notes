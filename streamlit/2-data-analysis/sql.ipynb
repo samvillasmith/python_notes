{
 "cells": [
  {
   "cell_type": "markdown",
   "id": "8695a80d",
   "metadata": {},
   "source": [
    "## SQL Queries\n",
    "### SQL is a standard language for accessing and manipulating databases. It is widely used in data analysis, data science, and database management. SQL allows users to perform various operations on databases, such as querying data, inserting new records, updating existing records, and deleting records.\n",
    "### SQL is a powerful tool for data analysis and is widely used in the industry. It is important to have a good understanding of SQL to work with databases and perform data analysis tasks effectively."
   ]
  },
  {
   "cell_type": "code",
   "execution_count": 1,
   "id": "69296482",
   "metadata": {},
   "outputs": [],
   "source": [
    "import sqlite3"
   ]
  },
  {
   "cell_type": "code",
   "execution_count": 2,
   "id": "c5451322",
   "metadata": {},
   "outputs": [
    {
     "data": {
      "text/plain": [
       "<sqlite3.Connection at 0x1f755cc4f40>"
      ]
     },
     "execution_count": 2,
     "metadata": {},
     "output_type": "execute_result"
    }
   ],
   "source": [
    "# Connect to a SQLite Database\n",
    "connection = sqlite3.connect('example.db')\n",
    "connection"
   ]
  },
  {
   "cell_type": "code",
   "execution_count": 3,
   "id": "4c3d3d28",
   "metadata": {},
   "outputs": [],
   "source": [
    "cursor = connection.cursor()"
   ]
  },
  {
   "cell_type": "code",
   "execution_count": 4,
   "id": "41df4ed0",
   "metadata": {},
   "outputs": [],
   "source": [
    "# Create a table\n",
    "cursor.execute('''\n",
    "Create Table If Not Exists employees(\n",
    "    id Integer Primary Key,\n",
    "    name Text Not Null,\n",
    "    age Integer,\n",
    "    department text\n",
    ")\n",
    "''')\n",
    "\n",
    "## Commit the changes\n",
    "connection.commit()"
   ]
  },
  {
   "cell_type": "code",
   "execution_count": 5,
   "id": "ef2a0693",
   "metadata": {},
   "outputs": [
    {
     "data": {
      "text/plain": [
       "<sqlite3.Cursor at 0x1f755c66940>"
      ]
     },
     "execution_count": 5,
     "metadata": {},
     "output_type": "execute_result"
    }
   ],
   "source": [
    "cursor.execute('''\n",
    "    Select * from employees\n",
    "    ''')"
   ]
  },
  {
   "cell_type": "code",
   "execution_count": 6,
   "id": "d710736d",
   "metadata": {},
   "outputs": [],
   "source": [
    "# Insert the data in a sqlite table\n",
    "cursor.execute('''\n",
    "    Insert Into employees(name, age, department)\n",
    "    values('Sam', 36, 'Data Scientist')\n",
    "''')\n",
    "\n",
    "cursor.execute('''\n",
    "    Insert Into employees(name, age, department)\n",
    "    values('John', 28, 'Software Engineer')\n",
    "''')\n",
    "\n",
    "cursor.execute('''\n",
    "    Insert Into employees(name, age, department)\n",
    "    values('Anna', 30, 'Data Analyst')\n",
    "''')\n",
    "\n",
    "# Commit the changes\n",
    "connection.commit()"
   ]
  },
  {
   "cell_type": "code",
   "execution_count": 7,
   "id": "67da56a4",
   "metadata": {},
   "outputs": [
    {
     "name": "stdout",
     "output_type": "stream",
     "text": [
      "(1, 'Sam', 36, 'Data Scientist')\n",
      "(2, 'John', 28, 'Software Engineer')\n",
      "(3, 'Anna', 30, 'Data Analyst')\n"
     ]
    }
   ],
   "source": [
    "# Querying the data\n",
    "cursor.execute('Select * from employees')\n",
    "rows = cursor.fetchall()\n",
    "\n",
    "# print the data\n",
    "for row in rows:\n",
    "    print(row)\n"
   ]
  },
  {
   "cell_type": "code",
   "execution_count": 8,
   "id": "382b699b",
   "metadata": {},
   "outputs": [],
   "source": [
    "# Update the data in the table\n",
    "cursor.execute('''\n",
    "    UPDATE employees\n",
    "    Set age=37\n",
    "    WHERE name = \"Sam\"\n",
    "''')\n",
    "\n",
    "connection.commit()"
   ]
  },
  {
   "cell_type": "code",
   "execution_count": 9,
   "id": "1082e0ff",
   "metadata": {},
   "outputs": [],
   "source": [
    "# Delete the data from the table\n",
    "cursor.execute('''\n",
    "    DELETE from employees\n",
    "    WHERE name = \"John\"\n",
    "''')\n",
    "\n",
    "connection.commit()"
   ]
  },
  {
   "cell_type": "code",
   "execution_count": 10,
   "id": "fe45b40b",
   "metadata": {},
   "outputs": [
    {
     "name": "stdout",
     "output_type": "stream",
     "text": [
      "(1, 'Sam', 37, 'Data Scientist')\n",
      "(3, 'Anna', 30, 'Data Analyst')\n"
     ]
    }
   ],
   "source": [
    "# Querying the data\n",
    "cursor.execute('Select * from employees')\n",
    "rows = cursor.fetchall()\n",
    "\n",
    "# print the data\n",
    "for row in rows:\n",
    "    print(row)\n"
   ]
  },
  {
   "cell_type": "code",
   "execution_count": 11,
   "id": "c13b497a",
   "metadata": {},
   "outputs": [],
   "source": [
    "# Working with sales data\n",
    "# Create a table for sales data\n",
    "connection = sqlite3.connect('sales_data2.db')\n",
    "cursor = connection.cursor()\n",
    "cursor.execute('''\n",
    "    CREATE TABLE IF NOT EXISTS sales (\n",
    "        id INTEGER PRIMARY KEY,\n",
    "        date TEXT NOT NULL,\n",
    "        product TEXT NOT NULL,\n",
    "        sales INTEGER,\n",
    "        region TEXT\n",
    "    )\n",
    "''')\n",
    "connection.commit()\n",
    "\n",
    "# Insert some sales data\n",
    "cursor.execute('''\n",
    "    INSERT INTO sales (date, product, sales, region)\n",
    "    VALUES ('2023-01-01', 'Product A', 100, 'North'),\n",
    "           ('2023-01-02', 'Product B', 150, 'South'),\n",
    "           ('2023-01-03', 'Product C', 200, 'East')\n",
    "''')\n",
    "connection.commit()"
   ]
  },
  {
   "cell_type": "code",
   "execution_count": 13,
   "id": "ed9c2bdf",
   "metadata": {},
   "outputs": [],
   "source": [
    "cursor.executemany('''\n",
    "    INSERT INTO sales (date, product, sales, region)\n",
    "    VALUES (?, ?, ?, ?)\n",
    "''', [\n",
    "    ('2023-01-04', 'Product D', 250, 'West'),\n",
    "    ('2023-01-05', 'Product E', 300, 'North')\n",
    "])\n",
    "\n",
    "connection.commit()"
   ]
  },
  {
   "cell_type": "code",
   "execution_count": 14,
   "id": "4c7c30c0",
   "metadata": {},
   "outputs": [],
   "source": [
    "# Close the connection\n",
    "connection.close()"
   ]
  },
  {
   "cell_type": "code",
   "execution_count": null,
   "id": "ede95383",
   "metadata": {},
   "outputs": [],
   "source": []
  },
  {
   "cell_type": "code",
   "execution_count": null,
   "id": "06103ecb",
   "metadata": {},
   "outputs": [],
   "source": []
  }
 ],
 "metadata": {
  "kernelspec": {
   "display_name": "newenv",
   "language": "python",
   "name": "newenv"
  },
  "language_info": {
   "codemirror_mode": {
    "name": "ipython",
    "version": 3
   },
   "file_extension": ".py",
   "mimetype": "text/x-python",
   "name": "python",
   "nbconvert_exporter": "python",
   "pygments_lexer": "ipython3",
   "version": "3.12.4"
  }
 },
 "nbformat": 4,
 "nbformat_minor": 5
}
